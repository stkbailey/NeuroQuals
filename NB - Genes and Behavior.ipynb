{
 "cells": [
  {
   "cell_type": "markdown",
   "metadata": {},
   "source": [
    "This notebook summarizes **Ch. 3** from Kandel's *Principles of Neural Science*.\n",
    "\n",
    "# Genes and Behavior\n",
    "\n",
    "Almost all behavior has a degree of genetic control, although most of them are also driven by many genes, not a single one. \n",
    "\n",
    "The recent availability of the complete genome is revolutionizing what we know about how genes contribute to disease. We have learned a few surprising things:\n",
    "\n",
    "- The genome has undergone two replications fromthe primitive genome of one-celled organisms.\n",
    "- 40% of c. elegans genes are novel.\n",
    "- Genes fall into two large clusters:\n",
    "    - Core/housekeeping genes regulate metabolism, replication, DNA, RNA and the cytoskeleton\n",
    "    - Specialized and newer cells manage intercellular signalling, transcription, multicellular mechanisms. These are positioned at the chromosm eneds.\n",
    "- 70% of human genes are related to c. elegans. Simple changes in these affect many genes.\n",
    "\n",
    "Variations in genes represent the basic material for evolutionary change and for individual risk to disease. A major area of investigation is how to quantify these differences meaningfully.\n"
   ]
  },
  {
   "cell_type": "markdown",
   "metadata": {},
   "source": [
    "### Genetic information is stored in chromosomes.\n",
    "\n",
    "There are two important ways genes contribute to the system:\n",
    "\n",
    "- Genes provide copies of itself to all cells.\n",
    "- Gene expression, or the manufacture of specific proteins that direct the structure and function of cells.\n",
    "\n",
    "Each cell has the same ~80k genes, but each *expresses* different ones. More genetic info is expressed in the brain (~30k) than any other organ. \n",
    "\n",
    "Protein-encoding genes have **exons** that encode parts of protein and **introns** which are noncoding segments.\n",
    "\n",
    "A **haploid** cell has one copy of each chromosome (common in unicellular organisms). A **diploid** cell has two copies of each chromosome. All genes are ordered precisely along a chromosome.\n",
    "\n",
    "An **allele** is a variant of a gene. If a diploid cell has identical alleles on both chromosomes, it is homozygous; if different, heterozygous. Humans have 46 chromeosome: 22 regular pairs and 2 sex chromosomes.\n",
    "\n",
    "Mendel is  the father of genetics and used self-breeding and cross-breeding experiments in plants to tease apart these concepts. Wilhelm Johanssen made the distinction between genotype (genetic identity) and phenotype (behavioral identity). When one allele controls the phenotype, it is considered a dominant allele.\n",
    "\n",
    "Mutations arise from damage to the nucleotide bases, replication mistakes or crossing errors during cell division.\n",
    "\n",
    "Francis Galton proposed a hereditary origin to intelligence in 1869. he introduced the twin study theory in 1883. \n",
    "\n",
    "<img src='pics/3-4.jpg'>"
   ]
  },
  {
   "cell_type": "markdown",
   "metadata": {},
   "source": [
    "### Single gene alleles can encode normal behavioral variations in worms and flies.\n",
    "\n",
    "In flies, variations in the \"period\" gene determine how well their circadian rhythm can adapt to changes in temperature, and one gene was found to correspond to the elimination of differences. \n",
    "\n",
    "In fly larvae, one gene can account for differences in long-range or short-range foraging behavior.\n",
    "\n",
    "Genes in c. elegans control whether worms eat in clumps or solitarily. \n",
    "\n",
    "<img src='pics/3-5.jpg'>"
   ]
  },
  {
   "cell_type": "markdown",
   "metadata": {},
   "source": [
    "### Mutations in single genes can affect certain behaviors in flies.\n",
    "\n",
    "Drosophila follow a circadian rhythm. These clocks have 3 properties: an intrinsic oscillator that follows a 24hr period; an adaptation mechanism to change to the light/dark cycle throughout the year; and output pathways that control behavior. The period (per) and timeless (tim) gene are devoted to rhythm control. The protein proucts of these genes are shuttled around the cell. tim degrades during the day (because of light), allowing further transcription. At night, it stops transcription. Thus, it's regulated by negative feedback in just a few proteins.\n",
    "\n",
    "In mammals, this system is found in the suprachiasmatic nucleus of the hypothalamus. The clock gene regulates rhythmicity here.\n",
    "\n",
    "<img src='pics/3-7.jpg'>\n"
   ]
  },
  {
   "cell_type": "markdown",
   "metadata": {},
   "source": [
    "### Defects in signle genes can have profound effects on complex behaviors in mice.\n",
    "\n",
    "Obesity in mice is partly governed by the obese (ob) gene. ob encodes leptin protein, and the amount of leptin is proportional to the total mass of fat. At greater fat, leptin increases, and the animal eats less. \n",
    "\n",
    "The leptin receptor is in the hypothalamus and is encoded at a similar location to a diabetes (db) gene. The db gene may encode for the leptin receptor. Obese humans have normal leptin, but they may have abnormally low leptin receptors.\n",
    "\n",
    "<img src='pics/3-10.jpg'>\n",
    "\n",
    "Serotonin is impacted in depression. \n",
    "\n",
    "5-HT is synthesized in the raphe nuclei, which project to the cortex. Aggression is associated with a decrease in serotonin activity. Mice lacking the 5-HT 1B receptor attack other mice more readily. People with a history of aggression have a lower concentration of serotonin. Thus, environment and genetics can influence serotonin receptors."
   ]
  },
  {
   "cell_type": "markdown",
   "metadata": {},
   "source": [
    "### Single genes are critical factors in certain human behavioral traits.\n",
    "\n",
    "Thrill-seeking may be enhanced by poloymorphisms in the D4 dopamine receptor gene. \n",
    "\n",
    "Opsin gene mutations can lead to color blindness or variations in sensitivity to red pigment. \n",
    "\n",
    "Huntington's disease is caused by a single gene polymorphism that causes wors problems the longer the gene has been in the family due to instability of the mutation.\n",
    "\n",
    "<img src='pics/3-12.jpg'>"
   ]
  },
  {
   "cell_type": "markdown",
   "metadata": {},
   "source": [
    "### Most complex behavioral traits in humans are multigenic.\n",
    "\n",
    "Traits are determined by multiple genes and the environment (i.e. diabetes, heart disease, dementia, manic-depression). There are many different alleles that can contribute to disease. \n",
    "\n",
    "One way to study is through linkage analysis: it looks for a unique locus on the genome and for frequent poplymorphisms i that gene. The coinheritance of gene and phenotype suggest a role for it in the disease. The quantitative trait locus is genes that contribute to a multigenic trait.\n",
    "\n",
    "90-95% of DNA is introns. Genes may account for much of behavior -- up to 50%. But different models are possible. Epilepsy, for example, has multiple genes that have rare but severe effect (monogenic; one gene is required for disease). Other psychotic disorders have a small number of genes that interact (oligogenic; a few genes required). Other diseases are the cumulative effect of many interacting genes (polygenic).\n",
    "\n",
    "<img src='pics/3-14.jpg'>\n",
    "<img src='pics/3-15.jpg'>\n"
   ]
  }
 ],
 "metadata": {
  "kernelspec": {
   "display_name": "Python 2",
   "language": "python",
   "name": "python2"
  },
  "language_info": {
   "codemirror_mode": {
    "name": "ipython",
    "version": 2
   },
   "file_extension": ".py",
   "mimetype": "text/x-python",
   "name": "python",
   "nbconvert_exporter": "python",
   "pygments_lexer": "ipython2",
   "version": "2.7.7"
  }
 },
 "nbformat": 4,
 "nbformat_minor": 0
}
