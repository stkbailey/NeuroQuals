{
 "metadata": {
  "name": "",
  "signature": "sha256:eb6431dbf48c2ec6289bb52d581a280bde6f4433a1bc1d3c2bef40e1da737e4a"
 },
 "nbformat": 3,
 "nbformat_minor": 0,
 "worksheets": [
  {
   "cells": [
    {
     "cell_type": "markdown",
     "metadata": {},
     "source": [
      "I. Language is encoding ideas into signals; it is not thought, literacy or pragmatics.\n",
      "a. Thinking can occur in the absence of language -- visually, emotionally, etc.\n",
      "b. Language has been around for a much longer time than reading and writing\n",
      "II. There are three facets of language, according to this author:\n",
      "a. Words - the association between a particular set of sounds and its meaning\n",
      "i. Open-class words - content words including nouns, verbs, adjectives, etc.\n",
      "ii. Closed-class words - grammatical words related to time, logic and relationships.\n",
      "b. Grammar - three main components\n",
      "i. Morphology - different pieces of words that can be combined.\n",
      "ii. Syntax - Rules for combining words into phrases and determining relationships.\n",
      "iii. Phonology - Rules for combining sounds in a consistent pattern in a language. This is how we differentiate words from pseudowords.\n",
      "c. Pragmatics - Employing language in the appropriate setting and form.\n",
      "III. Development: Complex language develops spontaneously in children.\n",
      "a. Infants begin tuning acoustic systems in their first year of life\n",
      "i. Sounds and phoneme discrimination (between languages) at 5-7 months\n",
      "ii. Babbling at 7-8 months\n",
      "iii. Gibber in sentence-like streams and phoneme discrimination by 12 months\n",
      "iv. Rapid word accumulation at 18 months\n",
      "v. Use of grammatical words in sentences by age 3\n",
      "    1) Errors made often but systematically\n",
      "b. Nearly all individuals will develop competence in a complex language  \n",
      "i. Slave children develop it  -- from pidgin to creole\n",
      "ii. Specific language impairment have high intelligence, intact hearing and normal social skills - but long-lasting difficulty in speaking and understanding according to the grammatical rules of the language\n",
      "IV. Humans appear to be unique in their language capacity, although it may have come about through Darwinian evolution\n",
      "a. Some chimpanzees have been mildly successful at 'language' -- cf. Kanzi -- but these do not match the ease with which a human chid learn signs.\n",
      "V. Aphasia led to the discovery of critical brain areas related to language\n",
      "a. \"Lack of a homolog to language in other species precludes the attempt to model language in animals\u2026\"\n",
      "b. Original Wernicke-Geschwind model\n",
      "i. Wernicke's and Broca's areas processed acoustic images of words\n",
      "ii. Arcuate fascicuus was a unidirectional pathway running posterior-anterior\n",
      "iii. Both areas interact with polymodal association areas (i.e. AG, IFG)\n",
      "c. Revised model\n",
      "i. Bidirectional AF, joining sensory and prefrontal cortices\n",
      "ii. Addition of other left hemisphere regions, including ATP\n",
      "iii. Three systems\n",
      "    1) Language implementation system: Broca/Wrernicke, insular cortex & basal ganglia\n",
      "    2) Mediational system: temporal, parietal and frontal association cortices\n",
      "    3) Conceptual system: higher order association cortices (esp, prefrontal)\n",
      "d. Broca's Aphasia is typically thought of as a production deficit caused by right IFG impact.\n",
      "i. However, aphasics also have difficulty with syntactically complex sentences which cannot be understood only by their word meanings. Therefore, strucutres impacted could be involved in assembly of words into sentences.\n",
      "e. Wernicke's Aphasia is caused by damage to posterior sector of left auditory cortex (BA 22). \n",
      "i. Speech is effortless but unintelligble and marked by phonemic paraphasias -- substitutions of phonemes or entire words for intended words.\n",
      "f. Conduction Aphasia is caused by STG and IPL damage and results in problems repeating sentences verbatim, assembling phonemes and naming pictures/objects.\n",
      "g. Motor / Sensory Aphasias result from damange near broca's/Wernicke's Areas\n",
      "i. Unlike Broca's, repetition is spared; but similar deficits occur. \n",
      "ii. Damage to left dlPFC seems to cause semantic retrieval problems.\n",
      "h. Global aphasia is a complete loss of language comprehension, speech formation and repetition. \n",
      "VI. Other brain areas are important, too:\n",
      "a. Left temporal cortex (BA 20, 21, 38): damage causes severee and pure naming defects.\n",
      "i. Confined to BA 38, there is difficulty naming unique places and persons but not common things; encompassing BA 21, 20, there is deficits in both.\n",
      "b. Are words defined by classes/categories?\n",
      "c. Supp. Motor Area and Anterior Cingulate -- initation and maintenance of speech. Important to attention and emotion, inlfluencing higher functions.\n",
      "VII. Right hemisphere is important for prosody and pragmatics\n",
      "a. Right anterior lesions yield inappropriate intoniation; right posterior yield difficulty interpreting emotional tone. \n",
      "\n",
      "\n"
     ]
    }
   ],
   "metadata": {}
  }
 ]
}