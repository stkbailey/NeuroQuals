{
 "cells": [
  {
   "cell_type": "markdown",
   "metadata": {},
   "source": [
    "This notebook summarizes **Ch. 17** from Kandel's *Principles of Neural Science*.\n",
    "\n",
    "# The Anatomical Organization of the Central Nervous System\n",
    "\n",
    "Assertion: Behavior results from a pattern of signalling between appropriately connected cells. Therefore, to understand complex behaviors, we must break it down into component behaviors, then identify the regions responsible for those processes and their connections. \n",
    "\n",
    "Nervous system development is stereotypical across individuals. It is differentiated anatomically into a central and peripheral nervous system, and is governed by five principles:\n",
    "\n",
    "- Each functional system involves several brain regions that carry out different types of information processing.\n",
    "- Identifiable pathways link the components of a functional system.\n",
    "- Each part of the brain projects in an orderly fashion onto the next, thereby creating topographical maps.\n",
    "- Functional systems are heirarchically organized.\n",
    "- Functional systems on one side of the brain control the other side of the body.\n",
    "\n",
    "The anatomy provides insight into function, much of which was inferred by Ramon y Cajal 100 years ago. The electron mmiscroscope revealed synaptic and neuron diversity, and new imaging techniques have shown the topographical organization."
   ]
  },
  {
   "cell_type": "markdown",
   "metadata": {},
   "source": [
    "### The central nervous system has seven major divisions.\n",
    "\n",
    "#### Spinal cord\n",
    "- The spinal cord receives sensory information from the trunk of the body. It contains motor neurons for voluntary and reflex movements. \n",
    "- Cell bodies are located in nuclei in the interior portions of the cord, with sensory neurons forming the dorsal horns and motor forming the ventral horns. Ascendng and descending white matter tracts form the outside of the cord.\n",
    "- There are 31 pairs of neuronal roots (ganglia). \n",
    "    - Dorsal root ganglia have touch, temperature, pain and internal organ sensory information.\n",
    "    - Ventral root ganglia have sympathetic and parasympathetic neurons.\n",
    "    \n",
    "    \n",
    "#### Brainstem: Medulla, Pons, Midbrain\n",
    "- Controls motion and sensory information from head, neck and face\n",
    "- Has 12 cranial nerves for specialized senses (e.g. vision) nd parsympathetic reflexs (e.g. gut peristalsis, blood pressure, cardiac output)\n",
    "- Medulla regulates blood pressure and respiration\n",
    "- Pontine nuclei relay information about movement and sensation between cortex and cerebellum. Also responsible for respiration, tase and sleep. \n",
    "- The midbrain is a motor system link between the cerebllum, basal ganglia and cortex. It also contains dopaminergic neurons in the substantia nigra that project to the basal ganglia. Finally, the colliculi are sites of audio-visual integration and eye movement control.\n",
    "    \n",
    "    \n",
    "#### Cerebellum\n",
    "- The cerebellum has more neurons than any other brain region, but it has only a few types.\n",
    "- It processes somatosensory information from the spinal cord, motor information from the cortex, and proprioceptive information from the inner ear.\n",
    "- Maintains posture, contributes to head/eye movements, fine motor control and learning.\n",
    "- It also contributes to language and other complex behaviors. Possibly through sensory association with pontine nuclei.\n",
    "\n",
    "\n",
    "#### Diencephalon\n",
    "- Consists of both the thalamus and hypothalamus.'\n",
    "- Thalamus acts as sensory relay system, with a gating/modulatory role for allowing certain information to reach conscious awaresness. It also integrates motor information from the cerebellum and basal ganglia.\n",
    "- The hypothalamus regulates behaviors for homeostasis and reproduction, including growth, eating, drinking and maternal behaviors. It has afferent and efferent connections with all areas of the brain. It is implicated in motivation.\n",
    "\n",
    "\n",
    "#### Cerebral hemispheres\n",
    "- The site of perception, motor control and cognition. In addition to cortex, it contains, the amygdala, hippocampus, basal ganglia."
   ]
  },
  {
   "cell_type": "markdown",
   "metadata": {},
   "source": [
    "### Five principles govern the organization of the major functional systems.\n",
    "\n",
    "#### Each functional system involves several brain regions that carry out different types of information processing.\n",
    "Different information passes through the same brain structures, but it is transformed at each step. This could lead to amplification of attenuation of the signal. There are two types of neurons: principal/projection neurons (usually excitatory) and local interneurons (usually inhibitory).\n",
    "\n",
    "#### Identifiable pathways link the components of a functional system.\n",
    "Many of these bundles are the same across different brains, such as the pyramidal tracts and corpus callosum. \n",
    "\n",
    "#### Each part of the brain projects in an orderly fashion onto the next, thereby creating topographical maps.\n",
    "The retina, cochlea and skin are all represented topographically throughout multiple stages of their processing. Not only does position of receptors affect this, but the density of them is represented. **Density determines the degree of sensitivity to a stimulus.** In motor cortex, the extent of cortical representation reflects the fineness of control.\n",
    "\n",
    "#### Functional systems are heirarchically organized.\n",
    "Multiple axons tend to converge at later processing steps (e.g. many retinal axon --> LGN --> V1), but later steps only fire in response to certain patterns of response. For example, association cortex only responds to direction, shape, etc. despite more basic inputs.\n",
    "\n",
    "#### Functional systems on one side of the brain control the other side of the body.\n",
    "Sensory axons cross at ascending tracts in the spinal cord."
   ]
  },
  {
   "cell_type": "markdown",
   "metadata": {},
   "source": [
    "### The cerebral cortex is concerned with cognitive functioning.\n",
    "\n",
    "Humans have the most elaborated cortex of all species. The exact reason for the complex gyri and sulci is not known; however, the thickness of cortex is similar across species (2-4mm). It is the surface area that is dramatically larger in primates. Information is processd *across* layers, in columns. Thus, the greater surface area, the more columns an animal has. \n",
    "\n",
    "The cortex has four lobes, named for the bones underneath them. The specialized processing is done in the cortex; there are are primary (diret projections to spinal cord or other processing center), secondary and tertiary sensory and motor areas.\n",
    "\n",
    "Layers vary throughout the brain, but there are typically six:\n",
    "\n",
    "- Layer I: Dendrites (Molecular layer)\n",
    "- Layer II: Granule cells (external granule cell layer)\n",
    "- Layer III: Pyramidal and other cells (external pyramidal cell layer)\n",
    "- Layer IV: Granule cells (internal granule cell layer)\n",
    "- Layer V: Larger cells (internal pyramidal cell layer)\n",
    "- Layer VI: Heterogeneous, multiform layer incl. axons to/from cortex\n",
    "\n",
    "Profiles of neurons depend more on dendrite location than cell body location. Layer IV is the main thalamic target. Brodmann areas are based on the profile above and below Layer IV. Layering is an efficient input/output system.\n",
    "\n",
    "<img src='pics/17-6.jpg'>\n"
   ]
  },
  {
   "cell_type": "markdown",
   "metadata": {},
   "source": [
    "### The cerebral cortex has two major neuronal cell types: projection neurons and interneurons.\n",
    "\n",
    "Projections are typically pyramidal cells and located in Layers III, V or VI. These cells are excitatory and use Glutamate. Interneurons are about 20-25% of cortex and use GABA. Types include basket cells and chandelier cells. \n",
    "\n",
    "The columnar organization of cortex gives cells in the same column similar electrical profiles. Although thickness can vary across cortex, the numbr of neurons is similar across all areas. \n",
    "\n",
    "It is the total number of columns that separate humans and other animal species."
   ]
  },
  {
   "cell_type": "markdown",
   "metadata": {},
   "source": [
    "### Subcortical regions of the brain contain functional groups of neurons called nuclei.\n",
    "\n",
    "Subcortical regions include the basal ganglia, hippocampus and amygdala. \n",
    "\n",
    "The basal ganglia coordinates movement and learning. It receives input from all areas of crotex but sends back to frontal lobes via the thalamus. The hippocampus is critical for forming new memories (but not in retaining ld ones). The amygdala coordinates responses to danger and disgust. \n",
    "\n",
    "<img src ='pics/17-13.jpg'>\n"
   ]
  },
  {
   "cell_type": "markdown",
   "metadata": {},
   "source": [
    "### Modulatory systems in the brain influence motivation, emotion and memory.\n",
    "\n",
    "Modulatory systems can impact behavior and perception. For example, when hungry, rod systems in the retina will orient an individual's attention to food stimuli. When full, an individual may have a sense of satisfaction, reinforcing the behavior. The connection between reward, attention, motivation and sensorimotor systems is an interesting one."
   ]
  },
  {
   "cell_type": "markdown",
   "metadata": {},
   "source": [
    "### The peripheral nervous system is anatomically, but not functionally, distinct from the central nervous system.\n",
    "\n",
    "The brain mediates a continuous stream of information from the PNS.\n",
    "\n",
    "- Somatic system: ensation in skin, muscle, joints.\n",
    "- Autonomic system: Sensation in visceral and motor control of viscera, smooth muscle, exocrine glands\n",
    "    - Sympathiatic: stress reaction\n",
    "    - Parasympathic: homeostasis"
   ]
  }
 ],
 "metadata": {
  "kernelspec": {
   "display_name": "Python 2",
   "language": "python",
   "name": "python2"
  },
  "language_info": {
   "codemirror_mode": {
    "name": "ipython",
    "version": 2
   },
   "file_extension": ".py",
   "mimetype": "text/x-python",
   "name": "python",
   "nbconvert_exporter": "python",
   "pygments_lexer": "ipython2",
   "version": "2.7.7"
  }
 },
 "nbformat": 4,
 "nbformat_minor": 0
}
