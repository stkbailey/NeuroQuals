{
 "cells": [
  {
   "cell_type": "markdown",
   "metadata": {},
   "source": [
    "This notebook summarizes Ch. 54 of Kandel's Principles of Neural Science.\n",
    "\n",
    "# The Guidance of Axons to Their Targets\n",
    "\n",
    "There are many critical steps in development: the numbers of cells that are made, the correct differentiation of types, the movement of axons to their projections. This last is impressive because axons can cover large distances, and their primary cues come from the environment.\n",
    "\n",
    "Axonal specificity is extraordinarily complex. It is mediated by breaking the journey into legs, with guidance at different intervals. Pioneer axons serve as scaffolds for others. There are also guidepost cells which direct growth cones, which guide the axon and respond to signals. Cues include soluble, membrane-bound and extracellular matrix types. Mutations in these signals can cause severe disorders."
   ]
  },
  {
   "cell_type": "markdown",
   "metadata": {},
   "source": [
    "### Specific molecular cues guide axons to their targets.\n",
    "\n",
    "Historically, there have been two views on how axon projection is accomplished:\n",
    "\n",
    "1. J.N. Langley, the scientist who mapped the autonomic nervous system, held that molecules guided axons.\n",
    "2. Weiss said that axonal growth was random, with the axons that were synchronously active flourishing. There could also be mechanical influences, e.g. with axons growing alongside solid supports.\n",
    "\n",
    "Now, we see that Langley was largely correct in a developmental sense. However, at later stages, activity does modify synapses.\n",
    "\n",
    "Key evidence came from Sperry's work on severing the optic nerve in a frog. Once severed, the eye was inverted, and the axons regrew. They formed orderly, but maladapted connections: the world (and the frog's behavior) was inverted. This indicated that axon growth was *chemospecific*. \n",
    "\n",
    "<img src='pics/54-3.jpg'>"
   ]
  },
  {
   "cell_type": "markdown",
   "metadata": {},
   "source": [
    "### Axons reach their destinations in a series of discrete steps.\n",
    "\n",
    "Axons do not just reach their final target in one run; there are many intermediate steps. For example, retinal ganglion cells...\n",
    "\n",
    "1. Leave the retina.\n",
    "2. Follow the optic stalk. (The first axon serves as a guide for later ones.) \n",
    "3. Diverge at optic chiasm\n",
    "4. In most vertebrates, go to superior colliculus or LGN of thalamus.\n",
    "5. Descend along radial glial cells to synaptic partner in a single layer of cortex.\n",
    "6. Adjust size and shape of terminal appropriately.\n",
    "\n",
    "Axons grow in pools and have simple directions: grow, turn, stop. They can correct mistakes along the route. Consequently, both positive (go) and negative (stop) cues exist, as well as short-range and long-range cues.\n",
    "\n",
    "<img src='pics/54-4.jpg'>"
   ]
  },
  {
   "cell_type": "markdown",
   "metadata": {},
   "source": [
    "### The growth cone is a sensory-motor structure that recognizes and responds to guidance cues.\n",
    "\n",
    "Ramon y Cajal proposed the growth cone as a pathfinding mechanism for the axon. Motility of the growth cone is optimal a certain \"set point\" of calcium concentration. \n",
    "\n",
    "There are three main regions:\n",
    "\n",
    "- Filopodia: rapid moving, long and sensing projection fill with actin\n",
    "- Lamellipodia: \n",
    "- Central core: contains organelles\n",
    "\n",
    "<img src='pics/54-7.jpg'>\n",
    "<img src='pics/54-9.jpg'>"
   ]
  },
  {
   "cell_type": "markdown",
   "metadata": {},
   "source": [
    "### Pathway guidance cues act in diverse ways.\n",
    "\n",
    "There are three types of cues: cell surface, extracellular matrix or soluble. Examples include:\n",
    "\n",
    "- Integrin-laminin interaction promotes growth on extracellular matrices\n",
    "- Cadherins, immunoglobulins and other cell-cell adhesion mechanisms promote growth.\n",
    "- Netrins are soluble chemoattractants.\n",
    "- Ephrins/semaphorins inhibit growth cones.\n",
    "\n",
    "<img src='pics/54-13.jpg'>"
   ]
  },
  {
   "cell_type": "markdown",
   "metadata": {},
   "source": [
    "### Molecules of different families interact to guide axons to their destinations.\n",
    "\n",
    "Multiple gradients can interact to subtly control axon guidance."
   ]
  }
 ],
 "metadata": {
  "kernelspec": {
   "display_name": "Python 2",
   "language": "python",
   "name": "python2"
  },
  "language_info": {
   "codemirror_mode": {
    "name": "ipython",
    "version": 2
   },
   "file_extension": ".py",
   "mimetype": "text/x-python",
   "name": "python",
   "nbconvert_exporter": "python",
   "pygments_lexer": "ipython2",
   "version": "2.7.6"
  }
 },
 "nbformat": 4,
 "nbformat_minor": 0
}
