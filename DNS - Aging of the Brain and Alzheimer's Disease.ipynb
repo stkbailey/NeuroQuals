{
 "cells": [
  {
   "cell_type": "markdown",
   "metadata": {},
   "source": [
    "This notebook summarizes **Ch. 58** from Kandel's *Principles of Neural Science*.\n",
    "\n",
    "# Aging of the Brain & Alzheimer's Disease\n",
    "\n",
    "The expected lifespan for humans has dramatically increased in the past century. There are several reason: a decrease in infant mortality, vaccines and antibiotics, improved nutrition, better public health interventions, heart disease and stroke preventia. However, we are now seeing the problems associated with this longer life span. Dementia and cognitive/memory impairment is more prevalent.\n",
    "\n",
    "Alzheimer's Disease is a type of senile dementia that is complex and widespread. Several genes may contribute it pathology (e.g. APP, presenilin-1/2, APoe4). It is not clear why certain regions are more vulnerable or the specific cell death pathway."
   ]
  },
  {
   "cell_type": "markdown",
   "metadata": {},
   "source": [
    "### Several hypotheses have been proposed for the molecular mechanism of aging.\n",
    "\n",
    "One possibility is that changes in information quality (i.e. DNA, RNA, protein integrity) accumulate over time as cells duplicate. Human cells can divide only a limited number of times in culture. Fibroblasts from older people divide fewer tims than ones from younger individuals. Galapagos turtle cells can divide 90 times, whereas mice divide 15. Human cells can divide about 50 times. The nucleus is the central piece of this \"biological clock\". "
   ]
  },
  {
   "cell_type": "markdown",
   "metadata": {},
   "source": [
    "### Changes in function and structure of the brain are associated with aging.\n",
    "\n",
    "The premier aging study is the Baltimore Longitudinal Study of Aging. It revealed that there is a wide variability in the rate and severity of cognitive decline. Among other things, sleep patterns change so that individuals get less stage III, IV and REM sleep. Structurally, brain weight decreases and senile plaques form. "
   ]
  },
  {
   "cell_type": "markdown",
   "metadata": {},
   "source": [
    "### A variety of senile dementias affect the elderly\n",
    "\n",
    "\"Senile dementia\" is defined by memory loss and deficits in one of the following: language, problem-solving, judgment, calculation, attention, praxis, etc. The most well known causes are:\n",
    "\n",
    "1. Alzheimer's Disease: afflicts 40% of people over 80\n",
    "2. Cerebrovascular disease (stroke)\n",
    "3. Parkinson's disease\n",
    "4. Alcoholism, syphilis, etc.\n",
    "\n",
    "<img src='pics/58-3.jpg' width=500px>\n"
   ]
  },
  {
   "cell_type": "markdown",
   "metadata": {},
   "source": [
    "### Alzheimer's Disese is characterized by several structural abnormalities in the brain.\n",
    "\n",
    "AD affects specific regions of the brain: the neocortex, entorhinal area, hippocampus, amygdala and thalamus. In the hippocampus, CA1 and CA2 are selectively damaged. Neurofibrillary tangles also appear, and are made of tau and Amyloid Beta. The affected nerve cells eventually die, leaving the tangles behind. Thus synaptic inputs for memory are lost. Amyloid Beta is particularly prominent in Alzheimer's Disease.\n",
    "\n",
    "<img src='pics/58-4.jpg' width=500px>\n",
    "<img src='pics/58-5.jpg' width=500px>"
   ]
  },
  {
   "cell_type": "markdown",
   "metadata": {},
   "source": [
    "### Several genetic risk factors for AD have been identified.\n",
    "\n",
    "Several genes have been identified that indicate risk of early onset of AD and in mice lead to increase A$\\beta$ plaques.\n",
    "\n",
    "1. Mutations in the APP gene on chromosome 21\n",
    "2. Mutations in the presenilin-1 gene on chromosome 14\n",
    "3. Mutations in the presenilin-2 gene on chromosome 1\n",
    "4. alleles for ApoE on chromosome 12\n",
    "5. Alleles for $\\alpha$-2 macroglobulin on chromosome 12\n"
   ]
  },
  {
   "cell_type": "markdown",
   "metadata": {},
   "source": [
    "### Animal models provide insights into the molecular mechanisms of the disease.\n",
    "\n",
    "The rhesus monkey is currently the best model. Older monkeys show deficits in memory, and this varies by individual. The cortex shows larger axon terminals and A$\\beta$, as well as declines in cholinergic and peptidergic areas."
   ]
  },
  {
   "cell_type": "markdown",
   "metadata": {},
   "source": [
    "### Treatment of Alzheimer's Disease\n",
    "\n",
    "Currently, there is no cure. Present-day therapies focus on treating associated symptoms, such as depression, agitation, sleep disorders, hallucinations, and delusions. \n",
    "\n",
    "One of the principal targets is the basal forebrain cholinergic system, a region of the brain that is severely damaged in Alzheimer disease. However, no medicines have yet proven to be effective in reversing the damage. "
   ]
  },
  {
   "cell_type": "code",
   "execution_count": null,
   "metadata": {
    "collapsed": true
   },
   "outputs": [],
   "source": []
  }
 ],
 "metadata": {
  "kernelspec": {
   "display_name": "Python 2",
   "language": "python",
   "name": "python2"
  },
  "language_info": {
   "codemirror_mode": {
    "name": "ipython",
    "version": 2
   },
   "file_extension": ".py",
   "mimetype": "text/x-python",
   "name": "python",
   "nbconvert_exporter": "python",
   "pygments_lexer": "ipython2",
   "version": "2.7.7"
  }
 },
 "nbformat": 4,
 "nbformat_minor": 0
}
