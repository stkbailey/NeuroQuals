{
 "metadata": {
  "name": "",
  "signature": "sha256:eda238419bcf1d9767d68324aa11fc055582dfcdfa8d55c45a5d2e65751066c1"
 },
 "nbformat": 3,
 "nbformat_minor": 0,
 "worksheets": [
  {
   "cells": [
    {
     "cell_type": "code",
     "collapsed": false,
     "input": [
      "This notebook summarizes **Chapter 55** from Kandel's *Principles of Neural Science*."
     ],
     "language": "python",
     "metadata": {},
     "outputs": []
    }
   ],
   "metadata": {}
  }
 ]
}