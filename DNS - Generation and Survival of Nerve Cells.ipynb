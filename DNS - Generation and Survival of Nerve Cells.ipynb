{
 "cells": [
  {
   "cell_type": "markdown",
   "metadata": {},
   "source": [
    "This notebook summarizes Ch. 53 from"
   ]
  },
  {
   "cell_type": "markdown",
   "metadata": {},
   "source": [
    "# The Generation and Surival of Nerve Cells\n",
    "\n",
    "How are progenitor cells differentiated into neurons and glia?\n",
    "\n",
    "1. Neurons and glia descend from common progenitor cells.\n",
    "2. Molecular signals determine the cellular fate of the progenitors.\n",
    "3. Some properties of mature neurons are further specified.\n",
    "4. Finally, some neurons are killed via apoptosis, or programmed cell death."
   ]
  },
  {
   "cell_type": "markdown",
   "metadata": {},
   "source": [
    "### The molecular basis of neuronal generation is similar across phylogeny. \n",
    "\n",
    "Studies of drosophila are a key source of developmental knowlege, although the notch-delta signalling mechanism has been observed in vertebrates (e.g. xenopus). \n",
    "\n",
    "Delta-Notch signalling determines the cell fate. The default fate is neuronal: activation of Notch by Delta suppresses this fate by inhibiting the transcription of Delta signals. This ensures that no \"clumps\" of neurons form, but the fate is not set initially.\n",
    "\n",
    "Another molecule, Numb, is inhibited by 1/2 the cells and forces neuronal determination. Thus there are both determinate and indeterminate signalling molecules. \n",
    "\n",
    "<img src='pics/53-1.jpg' width=500px>"
   ]
  },
  {
   "cell_type": "markdown",
   "metadata": {},
   "source": [
    "### "
   ]
  },
  {
   "cell_type": "markdown",
   "metadata": {},
   "source": [
    "### "
   ]
  },
  {
   "cell_type": "markdown",
   "metadata": {},
   "source": [
    "### "
   ]
  },
  {
   "cell_type": "markdown",
   "metadata": {},
   "source": [
    "### "
   ]
  }
 ],
 "metadata": {
  "kernelspec": {
   "display_name": "Python 2",
   "language": "python",
   "name": "python2"
  },
  "language_info": {
   "codemirror_mode": {
    "name": "ipython",
    "version": 2
   },
   "file_extension": ".py",
   "mimetype": "text/x-python",
   "name": "python",
   "nbconvert_exporter": "python",
   "pygments_lexer": "ipython2",
   "version": "2.7.7"
  }
 },
 "nbformat": 4,
 "nbformat_minor": 0
}
