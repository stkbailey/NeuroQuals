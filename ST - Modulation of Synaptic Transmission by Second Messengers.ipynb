{
 "metadata": {
  "name": ""
 },
 "nbformat": 3,
 "nbformat_minor": 0,
 "worksheets": [
  {
   "cells": [
    {
     "cell_type": "markdown",
     "metadata": {},
     "source": [
      "This notebook summarizes **Chapter 13** from Kandel's *Principles of Neural Science*."
     ]
    },
    {
     "cell_type": "heading",
     "level": 1,
     "metadata": {},
     "source": [
      "Modulation of Synaptic Transmission: Second Messengers"
     ]
    },
    {
     "cell_type": "code",
     "collapsed": false,
     "input": [],
     "language": "python",
     "metadata": {},
     "outputs": []
    },
    {
     "cell_type": "heading",
     "level": 3,
     "metadata": {},
     "source": [
      "Second-messenger pathways activated by metabotropic receptors share a common molecular logic."
     ]
    },
    {
     "cell_type": "markdown",
     "metadata": {},
     "source": [
      "Receptros have two functions: recognition of specific transmitters and activation of effectors. Ionotropic receptors have both functions in one molecule. Metabotropic receptors operate through and indirect action. "
     ]
    },
    {
     "cell_type": "markdown",
     "metadata": {},
     "source": [
      "The physiological actions of ionotropic and metabotropic receptors differ: Second messengers can close as well as open ion channels"
     ]
    },
    {
     "cell_type": "markdown",
     "metadata": {},
     "source": [
      "Second-messenger pathways interact with one another."
     ]
    },
    {
     "cell_type": "markdown",
     "metadata": {},
     "source": [
      "Phosphoprotein phosphatases regulate the levels of phosphorylation."
     ]
    },
    {
     "cell_type": "markdown",
     "metadata": {},
     "source": [
      "Second messengers can endow synaptic transmission with long-lasting consequences."
     ]
    },
    {
     "cell_type": "code",
     "collapsed": false,
     "input": [],
     "language": "python",
     "metadata": {},
     "outputs": []
    }
   ],
   "metadata": {}
  }
 ]
}