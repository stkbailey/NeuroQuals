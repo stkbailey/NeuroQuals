{
 "metadata": {
  "name": "",
  "signature": "sha256:94e6a206c4e8838a3bfcdd6a7fea51cc575a2324dea3cdad3c62771bad6f05ec"
 },
 "nbformat": 3,
 "nbformat_minor": 0,
 "worksheets": [
  {
   "cells": [
    {
     "cell_type": "markdown",
     "metadata": {},
     "source": [
      "This notebook summarizes **Chapter 14** from Kandel's *Principles of Neural Science*."
     ]
    },
    {
     "cell_type": "heading",
     "level": 1,
     "metadata": {},
     "source": [
      "Transmitter Release"
     ]
    },
    {
     "cell_type": "markdown",
     "metadata": {},
     "source": [
      "As a broad generalitzation, neural transmission is the result of calcium influx in the presynaptic terminal. Neither sodium nor potassium are required for neurotransmitter rlease. Each synaptic vesicle stores about 5000 neurotransmitter molecules. Increasing calcium influx changes the probability of vesiclces releasing their load, but not the actual size of the load. \n",
      "\n",
      "Calcium channels are clustered into \"active zones\" that see a high level of vesicule fusion, and calcium regulates the activity of a set of proteins important for vesicular release (i.e. targeting, docking, fusing and recycling). Finally, transmitter release can be modulated through intrinsic (potentiation) and extrinsic (synaptic facilitation/inhibition) processes."
     ]
    },
    {
     "cell_type": "heading",
     "level": 3,
     "metadata": {},
     "source": [
      "Transmitter release is regulated by depolarization of the presynaptic terminal."
     ]
    },
    {
     "cell_type": "markdown",
     "metadata": {},
     "source": [
      "The action potential is 110mV in amplitude, and it triggers sodium influx, then potassium efflux. When tetrodotoxin is used to block action potentials, synaptic transmission ceases. (To discover this, scientists measured pre- and post-synaptic potentials on the giant squid axon with four eletrodes.) \n",
      "\n",
      "However, when an action potential is stimulated in the absence of sodium/potassium flow, transmission still occurs. Thus, neiter sodium nor potassium are required for transmission, except as depolarizing agents."
     ]
    },
    {
     "cell_type": "heading",
     "level": 3,
     "metadata": {},
     "source": [
      "Transmitter release is triggerred by calcium influx."
     ]
    },
    {
     "cell_type": "markdown",
     "metadata": {},
     "source": [
      "Voltage-gated calcium channels are concentrated in \"active zones\" of the presynaptic terminal and have both a depolarizing and binding effect. The large concentration in certain areas allows for rapid, uniform release of neurotransmitters.\n",
      "\n",
      "Transmitter release has a non-linear dependence on calcium influx: doubling calcium influx results in 16x transmitter release. \n",
      "\n",
      "The delay in transmission of action potentials between two neurons is due to the *slower* opening of calcium channels relative to sodium cannels. \n",
      "\n",
      "Many types of calcium channels exist (e.g. L, P/Q, N, R, T). Their distinct properties come from the pore-forming $\\alpha1$ subunit. Other subunits include $\\alpha2$, $\\beta$, $\\gamma$, and $\\delta$. Generally, different types vary on three properties:\n",
      "\n",
      "- Voltage-dependent gating\n",
      "- Sensitivity to pharmacological blockers\n",
      "- Physiological function\n",
      "\n",
      "<img src=\"pics/14-4.jpg\">"
     ]
    },
    {
     "cell_type": "heading",
     "level": 3,
     "metadata": {},
     "source": [
      "Transmitter is released in quantal units."
     ]
    },
    {
     "cell_type": "markdown",
     "metadata": {},
     "source": [
      "Histograms of the post-synaptic potential reveal that neurotransmitters are released in set amounts, such that their depolarizing effect is relatively consistent. Blocking action potentials reveals the existence of 'mini's, mini-EPSPs caused by the release of a small number of vesicles. Changing the amount of calcium influx does not change this basic number, but does increase the number of quanta being released.\n",
      "\n",
      "<img src=pics/14-6.jpg>"
     ]
    },
    {
     "cell_type": "heading",
     "level": 3,
     "metadata": {},
     "source": [
      "Transmitter is stored and released by synaptic vesicles."
     ]
    },
    {
     "cell_type": "markdown",
     "metadata": {},
     "source": [
      "The presynaptic terminal has \"active zones\" where vesicles fuse to the membrane. There is most often an \"all or none\" release by the vesicles that bind here. \n",
      "\n",
      "These areas are revealed through \"freeze fracturing\" and electron micrography, techniques which in combination can show the lipid membrane at a particular instance. These reveal both channels (active zones) and pitted areas where vesicles are fusing.\n",
      "\n",
      "There are four gneral processes that must occur for transmitter to be released from the vesicle:\n",
      "\n",
      "0. Store neurotransmitter\n",
      "\n",
      "1. Cluster at the membrane\n",
      "\n",
      "2. Dock at active zone\n",
      "\n",
      "3. Fuse with membrane\n",
      "\n",
      "4. Recycle the vesicle (30s-60s)\n",
      "    1. Classical (Clathrin-mediated)\n",
      "    2. Kiss and Run\n",
      "    3. Bulk endocytosis (Additional membrane collected)\n",
      "\n",
      "<img src=\"pics/14-10.jpg\">"
     ]
    },
    {
     "cell_type": "heading",
     "level": 3,
     "metadata": {},
     "source": [
      "A variety of proteins are involved in the vesicular release of transmitter."
     ]
    },
    {
     "cell_type": "markdown",
     "metadata": {},
     "source": [
      "- Synapsin I\n",
      "    - Dephosphorylated: restrains vesicles \"in reserve\"\n",
      "    - Phosphorylated: frees vesciles to move to active zone\n",
      "\n",
      "\n",
      "- SNARE proteins: Vesicle SNAREs (V-SNAREs) \"attach\" to Target SNAREs (T-SNAREs) when docking with the membrane\n",
      "    - Synaptobrevin is the V-SNARE protein\n",
      "    - Syntaxin and SNAP-25 are the T-SNARE proteins\n",
      "\n",
      "\n",
      "- SNAP cuts off SNARE proteins after/during fusion\n",
      "\n",
      "\n",
      "- Synaptotagmin serves as a calcium snesor and promotes fusion\n",
      "<img src=pics/14-14.jpg>\n"
     ]
    },
    {
     "cell_type": "heading",
     "level": 3,
     "metadata": {},
     "source": [
      "The amount of transmitter released can be modulated by regulating the amount of calcium influx during the action potential."
     ]
    },
    {
     "cell_type": "markdown",
     "metadata": {},
     "source": [
      "The modulability of the synapse, or its plasticity, can be divided into both intrinsic and extrinsic processes.\n",
      "\n",
      "- Intrinsic modulatory processes include the recent history of its firing. For example, **tetanic stimulation** is when a high frequency train of stimulation occurs, which causes potentiation at the synapse. This is an increase in the presynaptic potential which results from saturation of the calcium \"buffer\" that normally exists. Basically, it's flooding the engine.\n",
      "\n",
      "\n",
      "- Extrinsic processes include **synatpic facilitation**, such as what happens when axons from other cells provide a depolarizing force on the axon terminal (axo-axonic connection). These connections can also be inhibitory."
     ]
    }
   ],
   "metadata": {}
  }
 ]
}