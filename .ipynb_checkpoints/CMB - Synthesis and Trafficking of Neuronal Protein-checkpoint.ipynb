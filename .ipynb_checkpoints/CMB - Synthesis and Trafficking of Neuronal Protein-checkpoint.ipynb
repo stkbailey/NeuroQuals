{
 "metadata": {
  "name": "",
  "signature": "sha256:d79164d4553ac486c7e273311998caba806046bfab218f4ab4c0070ede84d0f3"
 },
 "nbformat": 3,
 "nbformat_minor": 0,
 "worksheets": [
  {
   "cells": [
    {
     "cell_type": "markdown",
     "metadata": {},
     "source": [
      "This notebook summarizes **Chapter 5** from Kandel's *Principles of Neural Science*."
     ]
    },
    {
     "cell_type": "heading",
     "level": 1,
     "metadata": {},
     "source": [
      "Synthesis and Trafficking of Neuronal Protein"
     ]
    },
    {
     "cell_type": "markdown",
     "metadata": {},
     "source": [
      "Neuronal proteins are synthesized inthe ell body. Their function is determined by their amino acid sequence and foldying dynamics, although their final structure is often modified by the endoplasmic reticulum or golgi apparatus. Most secreted proteins are mode on ribosomes at the rough endoplasmic reticulum, then pushd to the embrane in vesicles.\n",
      "\n",
      "Endocytosis is a process of recycling proteins, especially those at the membane. It allows protein transport to occur without modifying the steady-state composition of the cell. That is, it occurs in both directions, so one are of the cell does become overly concentrated with any one type of protein. In neurons, molecular motors like kinesin enable the molecules to be transported in both antero- and retro-grade fashionn along the axon."
     ]
    },
    {
     "cell_type": "heading",
     "level": 3,
     "metadata": {},
     "source": [
      "Most proteins are synthesized in the cell body."
     ]
    },
    {
     "cell_type": "markdown",
     "metadata": {},
     "source": [
      "The nucleus contains the DNA, or blueprint, for all proteins that must be manufactured in the cell. Each cell type has specific regulatory proteins that enter the nucleus and target certain sequences of the chromatin, creating messenger RNA (mRNA) that is exported with ribosomes from the nucleus. This mRNA then combines with free ribosomes to be synthesized.\n",
      "\n",
      "Given that the nucleus is critical for mRNA transcription, most protein synthesis occurs in the soma.\n",
      "\n",
      "The brain expresses more of the total genetic information contained in the nucleus than anywhere else in the body. The two most abundant protein tyes are those required for the cytoskeleton and for enzymes that catalyze metabolic processes.\n",
      "\n",
      "A protein's role in the cell is determined by its primary amino acid sequence, it secondary and tertiary (i.e. folding) structure and its location in the cell. Proteins that are synthezied in the nucleus typically contain a \"nuclear locatization signal\" which tags a protein for a specific location in the cell. "
     ]
    },
    {
     "cell_type": "heading",
     "level": 3,
     "metadata": {},
     "source": [
      "Proteins may be modified during or after synthesis."
     ]
    },
    {
     "cell_type": "heading",
     "level": 3,
     "metadata": {},
     "source": [
      "Some proteins are synthesized in the cytosol and actively imported by the nucleus, mitochondria and peroxisomes."
     ]
    },
    {
     "cell_type": "heading",
     "level": 3,
     "metadata": {},
     "source": [
      "Secretory proteins and proteins of the vacuolar apparatus and plasmalemma are synthesized and modified in the endoplasmic reticulum."
     ]
    },
    {
     "cell_type": "heading",
     "level": 3,
     "metadata": {},
     "source": [
      "Secretory proteins are processed further in the Golgi complex and then exported."
     ]
    },
    {
     "cell_type": "markdown",
     "metadata": {},
     "source": [
      "Vesicles, which transport proteins throughout the cell, are evolutionarily conserved from yeast to the neuron. Their specificity is the result of \"coats\" which aid in the membrane \"budding\" process and select for certain protein cargo. \n",
      "\n",
      "Besides synaptic release, vesicles can deliver proteins to the Golgi complex for modification, where they then move to the the dendrite or axon. There are two types of vesicles:\n",
      "\n",
      "- Dense-core vesicles primarily deliver proteins (peptides) to axons. They are so called because they have lots of electrons inside, and so show up densely in the electron microscope.\n",
      "- Synaptic vesicles are may be formed at the presynaptic membrane and are \"lighter\" under the EM.\n",
      "<img src=\"pics/5-7.jpg\">"
     ]
    },
    {
     "cell_type": "heading",
     "level": 3,
     "metadata": {},
     "source": [
      "Surface membrane and extracellular substances are taken up into the cell by endocytosis."
     ]
    },
    {
     "cell_type": "markdown",
     "metadata": {},
     "source": [
      "Endosomes mediate the vesicular recycling process, and endocytic trafficking functions using vesicles, often with clathrin."
     ]
    },
    {
     "cell_type": "heading",
     "level": 3,
     "metadata": {},
     "source": [
      "Proteins and organelles are transported along the axon."
     ]
    },
    {
     "cell_type": "markdown",
     "metadata": {},
     "source": [
      "Original inferences about axon projections were made by destroying (or sometimes clamping) an axon tract and observing what happened to its projection and cell body. These studies showed that, in many cases, the soma remained intact while the projection deteriorated. Now, dyes are available (e.g. horseradish peroxidase or herpes simplex) that can visualize **anterograde** and **retrograde** transport along the axon.\n",
      "\n",
      "Axonal transport relies on microtubules that provide a stationary track to move along. Proteins called kinesins may transport different types of cargo up and down the axon. \"Used\" machinery are sent back up from the axon terminal in dense-core vesicles, often at a slower rate than that being sent down.  \n",
      "\n",
      "<img src=\"pics/5-11.jpg\">"
     ]
    }
   ],
   "metadata": {}
  }
 ]
}