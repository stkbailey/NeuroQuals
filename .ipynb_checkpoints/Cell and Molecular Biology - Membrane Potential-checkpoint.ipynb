{
 "metadata": {
  "name": "",
  "signature": "sha256:856add04ece9052ad2729c4b0f07b30018ed70c32fea4303157f143d0e56aff3"
 },
 "nbformat": 3,
 "nbformat_minor": 0,
 "worksheets": [
  {
   "cells": [
    {
     "cell_type": "markdown",
     "metadata": {},
     "source": [
      "This notebook summarizes **Chapter 7: Membrane Potential** from Kandel's *Principles of Neural Science*."
     ]
    },
    {
     "cell_type": "heading",
     "level": 1,
     "metadata": {},
     "source": [
      "Membrane Potential"
     ]
    },
    {
     "cell_type": "heading",
     "level": 3,
     "metadata": {},
     "source": [
      "The resting membrane potential results from the separation of charges across the cell membrane."
     ]
    },
    {
     "cell_type": "heading",
     "level": 3,
     "metadata": {},
     "source": [
      "The resting membrane potential is determined by resting ion channels."
     ]
    },
    {
     "cell_type": "heading",
     "level": 3,
     "metadata": {},
     "source": [
      "The balance of ion fluxes that gives rise to the resting membrane potential is abolished during the action potential."
     ]
    },
    {
     "cell_type": "heading",
     "level": 3,
     "metadata": {},
     "source": [
      "The contributions of different ions to the resting membrane potential can be quantified by the Goldman equation."
     ]
    },
    {
     "cell_type": "heading",
     "level": 3,
     "metadata": {},
     "source": [
      "The functional properties of the neuron can be represented in an electrical equivalent circuit."
     ]
    }
   ],
   "metadata": {}
  }
 ]
}