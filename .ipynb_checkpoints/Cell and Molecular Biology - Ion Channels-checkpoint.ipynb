{
 "metadata": {
  "name": "",
  "signature": "sha256:e5f4c6c5c156582a10514670b315331845b3d2dc2e1d5f0ab9fd19a5b65ccf7d"
 },
 "nbformat": 3,
 "nbformat_minor": 0,
 "worksheets": [
  {
   "cells": [
    {
     "cell_type": "markdown",
     "metadata": {},
     "source": [
      "This notebook summarizes **Chapter 6: Ion Channels** from Kandel's *Principles of Neural Science*."
     ]
    },
    {
     "cell_type": "heading",
     "level": 1,
     "metadata": {},
     "source": [
      "Ion Channels"
     ]
    },
    {
     "cell_type": "markdown",
     "metadata": {},
     "source": [
      "Ion channels are proteins that form pores in the cell membrane, allowing charged ions such as Na<sup>+</sup> to enter the cell. There are three important properties of ion channels:\n",
      "\n",
      "1. **Conduct ions across the cell membrane rapidly.** During depolarization, ions flow into/out of the cell at a rate of 100 million ions per channel per second. \n",
      "2. **Recognize and select for specific ions.** This is done with filtering mechanisms within the channel, including pore width and binding domains that prefer some ions over others. \n",
      "3. **Open or close in response to electrical, chemical or mechanical signals.** A huge variety of ion channels are responsible for the different sensations animals are capable of, including touch, taste and vision. \n",
      "\n",
      "The primary methods responsible for our increased understanding of channels are: the **patch-clamp technique**, which records current flow through single open channels; **gene cloning and sequencing**, which has shown genetic basis for these proteins and the relationships between families of channels; and finally, **x-ray crystallography** can show a 3D view of the channel."
     ]
    },
    {
     "cell_type": "heading",
     "level": 3,
     "metadata": {},
     "source": [
      "1. Ion channels are important for signaling in the nervous system."
     ]
    },
    {
     "cell_type": "markdown",
     "metadata": {},
     "source": [
      "Ion channels have a selectivity filter that weakly binds Na<sup>+</sup> ions.\n",
      "K<sup>+</sup> can't be stabilized as well. Important because ion must be strippedd of its water shell to pass into cell. \n",
      "\n",
      "<img src=\"pics/6-1.png\" height=\"100px\" align=right>\n",
      "Effective size of ion is larger because they have a \"water shell\" of molecules that surround them. Na<sup>+</sup> has a larger water shell than K<sup>+</sup> because it is more electrophilic.\n",
      "\n",
      "There are multiple types of gating: \n",
      "\n",
      "- Voltage-gated, opens in response to electrical gradient\n",
      "- Ligand-gated, opens when chemical trasnmitters bind to certain domains\n",
      "- Mechanically-gated, opens in response to pressure or stretching\n",
      "- Resting channels, allow ion flow without stimulus\n",
      "\n",
      "There is an electrical gradient between the extracellular and intracellular spaces, and the ion flow i.e. current ($I$) is a function of the voltage differential. That is, $I = \\frac{V}{R}$\n",
      "\n",
      "The permeability of the ion channel can be better understsood as the inverse of the resistance, or $\\gamma$.  Thus, $I = \\gamma * V$\n",
      "\n",
      "The flow of ion channels does not require energy from cells, which further enables rapid changes and recovery during electrical transmission.\n",
      "\n",
      "There are different types of channels:\n",
      "- Ohmic channels change ion flow based on Ohm's Law\n",
      "- Rectifier channels have greater conductance in one direction than another.\n",
      "\n",
      "- Saturation occurs when changes in voltage cease to increase current flow. This supports the idea that specific ionic binding is occuring in the channel, since it is physically limited. \n",
      "- Occlusion is the blocking of ion flow by ions such as Mg<sup>2+</sup> or Ca<sup>2+</sup>."
     ]
    },
    {
     "cell_type": "heading",
     "level": 3,
     "metadata": {},
     "source": [
      "2. Ion channels are proteins that span the cell membrane."
     ]
    },
    {
     "cell_type": "markdown",
     "metadata": {},
     "source": [
      "Ion channels have at least 2 stable states that they rotate between by twisting, tilting, sliding, etc. These changes can be localized to one area, be moe general or simply block the entrance to the pore. There are multiple regulatory mechanisms that might govern these processes, including ligand-gating (extracellular for neurotransmitters; intracellular for Ca<sup>2+</sup> or nucleotides) and phosphorylation, which can be kicked off by a signalling cascade initiated by ligand binding.\n",
      "\n",
      "These govern the three states that a channel can be in:\n",
      "\n",
      "- Open\n",
      "- Closed\n",
      "- Inactive\n"
     ]
    },
    {
     "cell_type": "heading",
     "level": 3,
     "metadata": {},
     "source": [
      "3. Ion channels can be investigated using functional methods."
     ]
    },
    {
     "cell_type": "markdown",
     "metadata": {},
     "source": [
      "Scientists first measured the properties of single ion channels on artiical surfaces. In the 1960's, scientists made artificial lipid bilayers and found that permeability increased when they added certain proteins. \n",
      "\n",
      "Patch-clamping is a refinement of voltage clamping, and allowed for the study of biological membranes. In patch clamping, a glass micropipette filled with a salt solution is \"fastened\" to a section of extracellular membrane. An electrode within the pipette measures the current flowing through the covered channels. "
     ]
    },
    {
     "cell_type": "heading",
     "level": 3,
     "metadata": {},
     "source": [
      "4. Ion channels in all cells share several characteristics."
     ]
    },
    {
     "cell_type": "heading",
     "level": 3,
     "metadata": {},
     "source": [
      "5. The structure of ion channels is inferred from biophysical, biochemical and molecular biological studies."
     ]
    },
    {
     "cell_type": "markdown",
     "metadata": {},
     "source": [
      "3. There is a heterogeneity of channels."
     ]
    },
    {
     "cell_type": "markdown",
     "metadata": {},
     "source": []
    },
    {
     "cell_type": "markdown",
     "metadata": {},
     "source": [
      "<img src=\"pics/6-2.jpg\" width=500px height=500>\n",
      "<img src=\"pics/6-3.jpg\" width=500px height=500>\n",
      "<img src=\"pics/6-4.jpg\" width=500px height=500>\n",
      "<img src=\"pics/6-5.jpg\" width=500px height=500>\n",
      "<img src=\"pics/6-6.jpg\" width=500px height=500>\n"
     ]
    }
   ],
   "metadata": {}
  }
 ]
}