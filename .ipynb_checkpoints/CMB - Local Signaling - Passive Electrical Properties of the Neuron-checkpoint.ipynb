{
 "metadata": {
  "name": "",
  "signature": "sha256:fcd035bc5c278f024cff913f71359ea4dbe00acbe4f8b1dc221d870b87426383"
 },
 "nbformat": 3,
 "nbformat_minor": 0,
 "worksheets": [
  {
   "cells": [
    {
     "cell_type": "markdown",
     "metadata": {},
     "source": [
      "This notebook summarizes **Chapter 8** from Kandel's *Principles of Neural Science*."
     ]
    },
    {
     "cell_type": "heading",
     "level": 1,
     "metadata": {},
     "source": [
      "Local Signaling - Passive Electrical Properties of the Neuron"
     ]
    },
    {
     "cell_type": "markdown",
     "metadata": {},
     "source": [
      "Two needs drive evolution: neurons must be small to fit large numbers of them in the brain, and they must conduct signal rapidly. The cell membrane has a high capacitance, slowing down signals, and the cytoplasm in axon and dendrites acts as a relaively poor conductor. Furthermore, ion channels make cells leaky. Therefore, the cell has developed ways of compensating: myelination, increasing the size of axons, or both."
     ]
    },
    {
     "cell_type": "heading",
     "level": 3,
     "metadata": {},
     "source": [
      "Input resistance determines the magnitude of passive changes in membrane potential."
     ]
    },
    {
     "cell_type": "markdown",
     "metadata": {},
     "source": [
      "Passive cell properties detrmine the time course and amplitude of post-synaptic potentials, the threshold and the spread of signal. These properties include:\n",
      "\n",
      "- Resistance of resting membrane\n",
      "- Membrane capacitance\n",
      "- Intracellular axial resistance along axons and dendrites\n",
      "\n",
      "**Input resistance** is how much the cell depolarizes in response to a steady current: $\\Delta V = I * R_{in} $. Cells with a higher $R_{in}$ will show a greater change in membrane voltage. Input resistance depends on the density of the resting ion channels the size (i.e. greater surface area = less resistance). "
     ]
    },
    {
     "cell_type": "heading",
     "level": 3,
     "metadata": {},
     "source": [
      "Membrane capacitance prolongs the time course of electrical signals."
     ]
    },
    {
     "cell_type": "markdown",
     "metadata": {},
     "source": [
      "The membrane has a capactiance property that prevents its charge from rising or falling immediately in response to input current. \n",
      "\n",
      "$$\n",
      "\\Delta V = \\frac{\\Delta Q}{C} = I_C * \\frac{\\Delta t}{C}\n",
      "$$\n",
      "\n",
      "Where $Q$ is charge, $C$ is capacitance and $I_C$ is current charging the capacitor per second. \n",
      "\n",
      "Bigger cells require more charge to change the membrane potential because size is proportional to capacitance.\n",
      "\n",
      "The membrane thus acts as a resistor and capacitor in parallel: the initial charge goes to the capacitor, then to the resistor. \n",
      "\n",
      "The membrane time constant is the time it takes the membrane potential to rise to about 63% of its steady state value. \n",
      "\n",
      "$$\n",
      "\\tau = R_{in}*C_{m}\n",
      "$$\n",
      "\n",
      "<img src='pics/8-1.jpg'>"
     ]
    },
    {
     "cell_type": "heading",
     "level": 3,
     "metadata": {},
     "source": [
      "Membrane and axoplasmic resistance affect the efficiency of signal conduction"
     ]
    },
    {
     "cell_type": "markdown",
     "metadata": {},
     "source": [
      "Signal decreases in amplitude across distance because the membrane resistance and the axial resistance absorb the signal from a given potential change. \n",
      "\n",
      "Variations in diameter affect resistance, with larger axons yielding better signal conductivity. (Axons range from 1mm in diameter in the giant squid axon to 1 micrometer in dendrites.)\n",
      "\n",
      "Action potentials fire locally, but cells with greater length constraints (less resistance) have a larger local spread, so signals travel more quickly.\n",
      "\n",
      "<img src='pics/8-5.jpg'>"
     ]
    },
    {
     "cell_type": "heading",
     "level": 3,
     "metadata": {},
     "source": [
      "Large axons are more easily excited than small axons by extracellular current stimuli."
     ]
    },
    {
     "cell_type": "markdown",
     "metadata": {},
     "source": [
      "Larger axons have lower thresholds for firing an action potnetial; smaller axons require more current. "
     ]
    },
    {
     "cell_type": "heading",
     "level": 3,
     "metadata": {},
     "source": [
      "Passive membrane properties and axon diameter affect the velocity of action potential propagation."
     ]
    },
    {
     "cell_type": "markdown",
     "metadata": {},
     "source": [
      "Rapid propagation is impotant for cell function, and there are two ways neurons have adapted to achieve this:\n",
      "\n",
      "- Increase the diameter of the axon (e.g. giant squid)\n",
      "- Myelinate the axon: increases the thickness of the axon, which decreases capacitance very effectivelyly\n",
      "\n",
      "Myelinated axons have nodes (nodes of Ranvier) that are densely populated with Na<sup>+</sup> channels that continue to pass the AP towards the terminal. This is known as saltatory conduction, coming from the Latin for \"jump\". It results in less energy used by the Na/K pump in restoring the gradient along these axons.\n",
      "\n",
      "<img src='pics/8-8.jpg'>"
     ]
    }
   ],
   "metadata": {}
  }
 ]
}