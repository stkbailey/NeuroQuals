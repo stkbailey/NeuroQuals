{
 "cells": [
  {
   "cell_type": "markdown",
   "metadata": {},
   "source": [
    "This notebook summarizes **Chapter 53** from Kandel's *Principles of Neural Science*."
   ]
  },
  {
   "cell_type": "markdown",
   "metadata": {},
   "source": [
    "# The Generation and Surival of Nerve Cells\n",
    "\n",
    "How are progenitor cells differentiated into neurons and glia?\n",
    "\n",
    "1. Neurons and glia descend from common progenitor cells.\n",
    "2. Molecular signals determine the cellular fate of the progenitors.\n",
    "3. Some properties of mature neurons are further specified.\n",
    "4. Finally, some neurons are killed via apoptosis, or programmed cell death.\n",
    "\n",
    "An overabundance of neurons results in the apoptosis of many superfluous neurons. Intercellular signals are critical at every step of this process. Development requires a mechanism of identity acquisition (neuron vs. glia) and of survival. \n",
    "\n",
    "Much of our understanding of these processes comes from studies of drosophila (flies) and c. elegans (worms), but these processes appear to be heavily conserved across species."
   ]
  },
  {
   "cell_type": "markdown",
   "metadata": {},
   "source": [
    "### The molecular basis of neuronal generation is similar across phylogeny. \n",
    "\n",
    "Studies of drosophila are a key source of developmental knowlege, although the notch-delta signalling mechanism has been observed in vertebrates (e.g. xenopus). \n",
    "\n",
    "Delta-Notch signalling determines the cell fate. The default fate is neuronal: activation of Notch by Delta suppresses this fate by inhibiting the transcription of Delta signals. This ensures that no \"clumps\" of neurons form, but the fate is not set initially.\n",
    "\n",
    "Another molecule, Numb, is inhibited by 1/2 the cells and forces neuronal determination. Thus there are both determinate and indeterminate signalling molecules. \n",
    "\n",
    "<img src='pics/53-1.jpg' width=500px>"
   ]
  },
  {
   "cell_type": "markdown",
   "metadata": {},
   "source": [
    "### Neuronal and glial fates are controlled by local signalling.\n",
    "\n",
    "When cells from the neural crest of quail embryos were grafted onto chickens, they acted like the chicken's neural crest cells and took a longer time to develop. This showed that different environments control the rate of differentiation and fate of progenitor cells. \n",
    "\n",
    "For ventral progenitors, BMP (bone morphogenetic protein) is the major factor along with glial growth factor (GGF). Platelet-derived growth factor promotes division of oligodendrocyte progenitors, and CNTF controls astrocyte generaton.\n",
    "\n",
    "<img src='pics/53-7.jpg' width=500px>"
   ]
  },
  {
   "cell_type": "markdown",
   "metadata": {},
   "source": [
    "### Neuronal fate in the mammalian cortex is influenced by the timing of cell differentiation.\n",
    "\n",
    "The cerebral cortex is generated from the lateral ventricular zone. Neurons migrate from there to form the cortical plate, which ultimately becomes the gray matter areas. They migrate along radial glial cells that maintain contact with both the ventral and pial surfaces.\n",
    "\n",
    "Cortical layer (i.e. laminar) position is determined by the birthdate of the neuron. Cells born earlier form the deepest cortical layer, and cells formed later travel further, to the outer layers.\n",
    "\n",
    "When transplanted, young cortical progenitor cells remain sensitive to this time-dependence, but after mitosis, they are commited (i.e. their competence changes after mitosis). \n",
    "\n",
    "<img src='pics/53-8.jpg' width=500px>"
   ]
  },
  {
   "cell_type": "markdown",
   "metadata": {},
   "source": [
    "### The neurotransmitter phenotype of a neuron is controlled by signals from the neuronal target.\n",
    "\n",
    "Development of the neurotransmitter phenotype has been mostly studied in sympathetic neurons (norepinephrine). Some of these neurons initially use NE, then start expressing ACh once they have contacted the target cell. For example, when sweat glands are transplanted elsewhere, they induce ACh expression in innervating neurons. However, this may not be universal; some neurotransmitters seem to be intrinsic to the neuron."
   ]
  },
  {
   "cell_type": "markdown",
   "metadata": {},
   "source": [
    "### The survival of a neuron is also regulated by signals from the neuronal target.\n",
    "\n",
    "In xenopus, changes to the target areas can have big effect on the survival of neurons: \n",
    "\n",
    "- Removal of a limb piece (the neuronal target), induces cell death in the neurons projecting to that area. \n",
    "- Addition of a limb bud allows more neurons to survive. \n",
    "- Blocking muscle activity allows more neurons to survive.\n",
    "\n",
    "Thus, the muscle appears to contribute a limited neurotrohpic factor that is taken up by the presynaptic terminal.\n",
    "\n",
    "One of these **neurotrophins** is nerve growth factor (NGF). Neuronal activity regulates the production and responsiveness to factors. Receptors for NGF on the growth cone include TrkA (Tyrosine Kinase). Responses to these early growth factors play a role in survival by starting an intracellular cascade that prevents apoptosis.\n",
    "\n",
    "<img src='pics/53-12.jpg' width=500px>"
   ]
  },
  {
   "cell_type": "markdown",
   "metadata": {},
   "source": [
    "### Deprivation of a neurotrophic factor activates a cell death program in neurons.\n",
    "\n",
    "Apoptosis is a programmed cell death that proceeds by:\n",
    "\n",
    "1. Cell shrinkage\n",
    "2. Condensation of chromatin\n",
    "3. Cell fragmentation\n",
    "4. Phagocytosis\n",
    "\n",
    "Apoptosis is distinct from neurosis, the rapid lysis of membrane that occurs when a cell is lesioned. Capsases, such as ced-9, are the 'executors' of apoptosis.\n",
    "\n",
    "<img src='pics/53-15.jpg' width=500px>"
   ]
  },
  {
   "cell_type": "markdown",
   "metadata": {},
   "source": [
    "### "
   ]
  },
  {
   "cell_type": "markdown",
   "metadata": {},
   "source": [
    "### "
   ]
  },
  {
   "cell_type": "markdown",
   "metadata": {},
   "source": [
    "### "
   ]
  },
  {
   "cell_type": "markdown",
   "metadata": {},
   "source": [
    "### "
   ]
  }
 ],
 "metadata": {
  "kernelspec": {
   "display_name": "Python 2",
   "language": "python",
   "name": "python2"
  },
  "language_info": {
   "codemirror_mode": {
    "name": "ipython",
    "version": 2
   },
   "file_extension": ".py",
   "mimetype": "text/x-python",
   "name": "python",
   "nbconvert_exporter": "python",
   "pygments_lexer": "ipython2",
   "version": "2.7.7"
  }
 },
 "nbformat": 4,
 "nbformat_minor": 0
}
