{
 "metadata": {
  "name": "",
  "signature": "sha256:c7d2f735702b4bf06a87437a17d938c60dd626c8b4ac852da8aff7665232a52c"
 },
 "nbformat": 3,
 "nbformat_minor": 0,
 "worksheets": [
  {
   "cells": [
    {
     "cell_type": "markdown",
     "metadata": {},
     "source": [
      "This notebook summarizes **Chapter 52** from Kandel's *Principles of Neural Scmience*."
     ]
    },
    {
     "cell_type": "heading",
     "level": 1,
     "metadata": {},
     "source": [
      "The Induction and Patterning of the Nervous System"
     ]
    },
    {
     "cell_type": "markdown",
     "metadata": {},
     "source": [
      "There are three major steps in early development:\n",
      "\n",
      "1. Progentior cells in neural plate\n",
      "2. Formation of the neural tube\n",
      "3. Regional differentiation in the neural tube\n",
      "\n",
      "Early patterning is a series of inducive interactions. There are a relatively small number of factors, including Sonic Hedgehog, noggin and chordin. The developmental history of a cell determines its responsiveness to these factors.\n",
      "\n",
      "Signalling molecules are well-conserved across species and thus represent an economical way of facilitating development. Receptors are also conserved. Some processes are used at different stages, thus studying worms and flies can provide useful insight into these processes."
     ]
    },
    {
     "cell_type": "heading",
     "level": 3,
     "metadata": {},
     "source": [
      "The entire nervous system arises from the ectoderm."
     ]
    },
    {
     "cell_type": "markdown",
     "metadata": {},
     "source": [
      "1) The neural plate arises from the ectoderm and differentiates into immature neurons and glia\n",
      "2) Integration and axon extension\n",
      "3) Synapse formation and competition\n",
      "4) Intercellular communication\n",
      "\n",
      "Much of our understanding comes from drosophila and c. elegans. However, these processes are highly conserved across species.\n",
      "\n",
      "<img src='pics/52-1.jpg'>\n",
      "<img src='pics/52-2.jpg'>\n",
      "\n",
      "- Endoderm --> gut, lungs, liver\n",
      "- Mesoderm --> muscle, connective tissue, vasculature\n",
      "- Ectoderm --> major tissues of central and peripheral nervous system, epidermis\n",
      "\n",
      "Neurulation: When the neural plate folds into the neural tube. Cells divide at different rates rostro-caudally, resulting in a forebrain, midbrain and hindbrain."
     ]
    },
    {
     "cell_type": "heading",
     "level": 3,
     "metadata": {},
     "source": [
      "Inductive signals control neuronal cell differentiation."
     ]
    },
    {
     "cell_type": "markdown",
     "metadata": {},
     "source": [
      "Two factors control differentation: **inducing factors** that are provided by other cells and **other molecules** that are activated by these inducing factors. The position a cell occupies is critical to their differentiationi. The \"other molecules\" include surface receptors that mediate factor effects. They can regulate gene expression. \n",
      "\n",
      "A cells overall \"competence\" depends on its suite of receptors and transducers"
     ]
    },
    {
     "cell_type": "heading",
     "level": 3,
     "metadata": {},
     "source": [
      "he Neural Plate Is Induced by Signals From Adjacent Mesoderm"
     ]
    },
    {
     "cell_type": "markdown",
     "metadata": {},
     "source": [
      "In 1924, Spencer and Margold found an \"organizing region\" in amphibians. When they transplanted cells from the mesoderm into another region, they formed their normal course, the notochord. However, nearby areas changed dramatically, forming an entire second nervous system. \n",
      "\n",
      "Xenopus (frog) has been a useful model systm. Neural differntiation is the default state of the ectoderm. In single cell culture, these cells will turn into neurons. Bone morphogenetic protein (BMP) prevents this differentiation. Future neurons express a receptor that blocks BMP, otherwise this hormone turns them into epidermis. \n",
      "\n",
      "<img src='pics/52-5.jpg'>\n",
      "\n",
      "The fate of neural cells is determined in two systems: the medial-lateral (dorso-ventral) axis and the antero-posterior axis.\n",
      "\n",
      "Dorso-ventral axis: \n",
      "Spinal cord: the dorsal part processes sensory input and the entral part coordinates motor output\n",
      "\n",
      "- floor plate: special glial cells that generate motor neurons and then interneurons\n",
      "- roof plate: dorsal cells that form sensory interneurons\n",
      "- neural crest cells: populate peripheral nervous system\n",
      "\n",
      "Differntiation is controlled ventrally by the notochord and dorsally by the epidermal ectoderm. \n",
      "\n",
      "Ventral process: 1) Induce floor plate, and 2) Induce motor neurons and interneurons. This is mediated by Sonic Hedgehog, which promotes all tpes of differentation. (It is both neccessary and sufficient.) SHH is an inducer and morphogen, meaning it has different effects at different concentrations. Mutations in this system cause spina bifida and limb deformation.\n",
      "\n",
      "Dorsal process: BMPs induce at a later stage form ectodermal cells. There are several members of the BMP family. In both dorsal and ventral processes, non-neuronal cells induce changes and pass on these properties to roof and floor plate. The dorsoventral gradient is maintained rostro-caudally.\n",
      "\n",
      "Rostro-caudal axis:\n",
      "\n",
      "This axis uses many different signals, including noggin and chordin. \n",
      "\n",
      "The hindbrain includes sensory ganglia and motor nuclei. It also generates cranial nerve. Hox is involved with the rhombomere differentiation (the swelling of certain areas of the hindbrain during development).\n",
      "\n",
      "<img src='pics/52-12.jpg'>\n",
      "\n",
      "The midbrain is not ubdivided into segments. it is controlled by isthmus cells, an organizing center that uses Wnt-1 and FGF. \n",
      "\n",
      "The forebrain has divisions (prosomeres) and is thus more similar to rhombomere differentiation. \n",
      "\n",
      "A key insight here is that not only are molecules conserved across phylogeny, but whole programs of cell/nerve differentiation are conserved. "
     ]
    },
    {
     "cell_type": "code",
     "collapsed": false,
     "input": [
      "Neural Induction Involves Inhibition of Bone Morphogenetic Protein Signals"
     ],
     "language": "python",
     "metadata": {},
     "outputs": []
    },
    {
     "cell_type": "heading",
     "level": 3,
     "metadata": {},
     "source": [
      "Regional Differentiation of the Cerebral Cortex Depends on Afferent Input As Well As Intrinsic\n",
      "Programs of Cell Differentiation"
     ]
    },
    {
     "cell_type": "markdown",
     "metadata": {},
     "source": [
      "Same intrinsic programming same afferent signals. "
     ]
    },
    {
     "cell_type": "code",
     "collapsed": false,
     "input": [],
     "language": "python",
     "metadata": {},
     "outputs": []
    }
   ],
   "metadata": {}
  }
 ]
}