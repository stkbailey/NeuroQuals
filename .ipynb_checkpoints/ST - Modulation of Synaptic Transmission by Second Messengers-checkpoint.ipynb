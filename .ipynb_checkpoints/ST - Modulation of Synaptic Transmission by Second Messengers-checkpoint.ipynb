{
 "metadata": {
  "name": "",
  "signature": "sha256:4e7e30cad71ca907d2d22842d5bb1db5454c940e44ee2a5826686234419ca95b"
 },
 "nbformat": 3,
 "nbformat_minor": 0,
 "worksheets": [
  {
   "cells": [
    {
     "cell_type": "markdown",
     "metadata": {},
     "source": [
      "This notebook summarizes **Chapter 13** from Kandel's *Principles of Neural Science*."
     ]
    },
    {
     "cell_type": "heading",
     "level": 1,
     "metadata": {},
     "source": [
      "Modulation of Synaptic Transmission: Second Messengers"
     ]
    },
    {
     "cell_type": "markdown",
     "metadata": {},
     "source": [
      "Signalling uses three classes of receptors:  ionotropic receptors (fast, brief action); metabotropic GPCRs with 7 transmembrane segments; and receptor tyrosine kinases. The latter two types activate second messenger cascades or directly alter ion channel function.\n",
      "\n",
      "Many cascades rely on protein kinases that phosphoylate cell proteins. The actions of metabotropic receptors can last seconds to minute and can modulate the strength/efficacy of synaptic transmission, including transmitter release, receptorsensitivity or membrane excitability. These actions are implicated in emotion, mood and arousal. The longest-lasting effects can change gene transcription but this may require repeated stimulation. "
     ]
    },
    {
     "cell_type": "heading",
     "level": 3,
     "metadata": {},
     "source": [
      "Second-messenger pathways activated by metabotropic receptors share a common molecular logic."
     ]
    },
    {
     "cell_type": "markdown",
     "metadata": {},
     "source": [
      "Receptors have two functions: recognition of specific transmitters and activation of effectors. Ionotropic receptors have both functions in one molecule. Metabotropic receptors operate through and indirect action. Two types exist:\n",
      "\n",
      "- **G Protein Coupled Receptors (GPCRs)** are coupled to an effector component. The effector is often an enzyme that produces a diffusible second messenger which then triggers a biochemical cascade. Examples include:\n",
      "    - Muscarinic ACh receptors\n",
      "    - GABA<sub>B</sub> receptors\n",
      "    - $\\alpha$ and $\\beta$ - adrenergic receptors\n",
      "    - rhodopsin\n",
      "- **Receptor Tyrosine Kinases** have a phosphorylation enzyme that activates second messengers such as hormones, growth factors and neuropeptides.\n",
      "\n",
      "Second messengers are either non-gaseous (e.g. intracellular calcium or cyclic AMP) or gaseuous (e.g. nitric oxide or carbon monoxide).\n",
      "\n",
      "<img src='pics/13-1.jpg'> \n",
      "\n",
      "GPCRs have seven membrane-spanning regions. Their operation goes:\n",
      "\n",
      "1. Neurotransmitter activates protein.\n",
      "2. Protein binds to an enzyme (e.g. cAMP)\n",
      "3. Enzyme changes target proteins through second messenger(s) that either bind them or phosphorylate them.\n",
      "4. Protein kinases amplify and distribute signals.\n",
      "\n",
      "cAMP is a prototypical process in which the neurotransmitter \"opens up\" a G-protein binding site on the receptor.\n",
      "\n",
      "A single liganded receptor can activate many G-proteins. Thus, GPCRs can amplify neurotransmitter signal. These effects can last even after the initial signal has been lost. e.g. calcium forms a complex with calmodulin that activates a kinase that then continues the process, even after calcium is gone. \n",
      "\n",
      "<img src='pics/13-9.jpg'>"
     ]
    },
    {
     "cell_type": "heading",
     "level": 3,
     "metadata": {},
     "source": [
      "The physiological actions of ionotropic and metabotropic receptors differ: Second messengers can close as well as open ion channels."
     ]
    },
    {
     "cell_type": "markdown",
     "metadata": {},
     "source": [
      "Three broad classes of modulatory action exist:\n",
      "\n",
      "- Transmitter releas by modulation at presynaptic terminal\n",
      "- Fast synaptic potentials by modulating at trasnmitter-gated channels\n",
      "- Electrical excitability by modulation at resting voltage-gated channels\n",
      "\n",
      "ACh has a nicotinic receptor (ionotropic) and muscarinic receptor (GPCR). The GPCR can close potassium channels, unlike the ionotroipc one, which always opens them."
     ]
    },
    {
     "cell_type": "heading",
     "level": 3,
     "metadata": {},
     "source": [
      "Second-messenger pathways interact with one another."
     ]
    },
    {
     "cell_type": "markdown",
     "metadata": {},
     "source": [
      "There are three forms of interaction:\n",
      "\n",
      "- Parallel action: different pathways have the same effect (e.g. prevent desensitization)\n",
      "- Convergent action: e.g phosphorylation of common substrates\n",
      "- Antagonistic action: override or interfere"
     ]
    },
    {
     "cell_type": "heading",
     "level": 3,
     "metadata": {},
     "source": [
      "Phosphoprotein phosphatases regulate the levels of phosphorylation."
     ]
    },
    {
     "cell_type": "markdown",
     "metadata": {},
     "source": [
      "Second messengers can phosphorylate transcriptional proteins to change genetic expression. That is, they can stimulate local protein sythesis."
     ]
    },
    {
     "cell_type": "heading",
     "level": 3,
     "metadata": {},
     "source": [
      "Second messengers can endow synaptic transmission with long-lasting consequences."
     ]
    }
   ],
   "metadata": {}
  }
 ]
}