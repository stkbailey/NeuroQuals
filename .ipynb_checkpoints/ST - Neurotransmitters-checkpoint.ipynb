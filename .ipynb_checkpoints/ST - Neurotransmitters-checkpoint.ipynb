{
 "metadata": {
  "name": "",
  "signature": "sha256:6cc873f653fc2469e35cbc324609ccf16c602a8d170affaefdcd022f32db7d16"
 },
 "nbformat": 3,
 "nbformat_minor": 0,
 "worksheets": [
  {
   "cells": [
    {
     "cell_type": "markdown",
     "metadata": {},
     "source": [
      "This notebook summarizes **Chapter 15** from Kandel's *Principles of Neural Science*."
     ]
    },
    {
     "cell_type": "heading",
     "level": 1,
     "metadata": {},
     "source": [
      "Neurotransmitters"
     ]
    },
    {
     "cell_type": "markdown",
     "metadata": {},
     "source": [
      "Neural signal is carried across the synapse by neurotransmitters. They do not carry unique info in themselves, but bind with receptors on the other cell to transmit the signal. NTs are packaged in vesicles after synthesis to protect from degradation and to prepare for release in the synaptic cleft. Small NTs are synthesized at the terminal; larger peptides in the soma. Therefore to understand NTs, we often study vesicles."
     ]
    },
    {
     "cell_type": "heading",
     "level": 3,
     "metadata": {},
     "source": [
      "Chemical Messengers must fulfill four criteria  to be considered transmitters."
     ]
    },
    {
     "cell_type": "markdown",
     "metadata": {},
     "source": [
      "The four criteria to be considered a transmitter are:\n",
      "\n",
      "1. The transmitter must be synthesized.\n",
      "2. Transmitter must be present in the presynaptic terminal and enough of it released to exert an effect.\n",
      "3. Exogenous administration (i.e. drug-like administration) has the same effect as endogenous release.\n",
      "    - Basically, transmitter must interact with receptors on the postsynaptic cell.\n",
      "4. There must be a specific mechanism for removing transmitter from the synaptic cleft.\n",
      "\n",
      "Broadly, there are two classes of neurotransmitter:\n",
      "\n",
      "- Small molecule neurotransmitters, like dopamine and norepinephrine.\n",
      "- Neuroactive peptides"
     ]
    },
    {
     "cell_type": "heading",
     "level": 3,
     "metadata": {},
     "source": [
      "Only a few small-molecule substances act as transmitters."
     ]
    },
    {
     "cell_type": "markdown",
     "metadata": {},
     "source": [
      "There are nine small-molecule NTs. Of these 8 are amines, 7 are amino acid-derived and the ninth is ATP.\n",
      "\n",
      "| Neurotransmitter  | Abbrev. | Location | Notes |\n",
      "|--------|----|---|----|\n",
      "|Acetylcholine      |ACh | Neuromuscular junctions (PNS); preganglionic and postganglionic neurons (ANS)| Motor Neurons |\n",
      "|Dopamine           |DA  | Various CNS locations| Substantia nigra --> motor control, impacted in Parkinson's; mesolimbic/mesocortical system --> affect, emotion, motivation; arcuate/pituitary loop --> hormone regulation.  |\n",
      "|Norepinephrine     |NE  |Locus Ceruleus (CNS); postganglionic neurons (SNS) | Modulates complex functions, project throughout brain. |\n",
      "|Epinephrine        |E   | | aka: Adrenaline|\n",
      "|Serotonin          |5HT |Raphe nuclei | Controls attention; implicated in depression. |\n",
      "|Histamine          |    |Hypothalamus | Hormone release |\n",
      "|g-Aminobutyric Acid|GABA| CNS | Most common for inhibitory interneurons; excitatory during development. |\n",
      "|Glycine            |Gly |Spinal cord |Major inhibitor in spinal cord. |\n",
      "|Glutamate          |Glu | | Most frequent NT in CNS. Taken up by astrocytes, turned into glutamine, reuptaken by cell. Excitatory at ionotopric receptors; modulatory at metabotropic ones. |\n",
      "|Adenosine Triphosphate |ATP | Autonomic neurons | --- |\n",
      "\n",
      "Vesicles actively \"load\" thmselves with ionized NTs by exchanging for two protons. Sometimes drugs can act by mimicking transmitters and taking up space in the vesicle.\n",
      "\n",
      "- Ionotropic receptor:\n",
      "- Metabotropic Receptor: "
     ]
    },
    {
     "cell_type": "heading",
     "level": 3,
     "metadata": {},
     "source": [
      "Many neuroactive peptides serve as transmitters."
     ]
    },
    {
     "cell_type": "heading",
     "level": 3,
     "metadata": {},
     "source": [
      "Peptides and small-molecule transmitters differ in several ways."
     ]
    },
    {
     "cell_type": "markdown",
     "metadata": {},
     "source": [
      "Peptides are synthesized in the soma and are slower at replenishing at the axon terminal, whereas small-molecule neurotransmitters are synthsized at the terminal and have a rapid, sustained release. Finally, termination of the peptide effect is generally slower than that of small-molecule neurotransmitters."
     ]
    },
    {
     "cell_type": "heading",
     "level": 3,
     "metadata": {},
     "source": [
      "Peptides and small-molecule transmitters can coexist and be coreleased."
     ]
    },
    {
     "cell_type": "heading",
     "level": 3,
     "metadata": {},
     "source": [
      "Removal of transmitter from the synaptic cleft terminates synaptic transmission."
     ]
    },
    {
     "cell_type": "markdown",
     "metadata": {},
     "source": [
      "There are three mechanisms for uptaking NT:\n",
      "\n",
      "1. **Diffusion** (all molecules)\n",
      "2. **Enzymatic degradation** (esp. cholinergic molecules)\n",
      "3. **Reuptake** via transporter molecules\n",
      "    - Most common method\n",
      "    - Glutamate transporter uses potassium ion countertransport\n",
      "    - 12-Membrane-Spanning Transporter uses chlorine ion countertransport.."
     ]
    }
   ],
   "metadata": {}
  }
 ]
}