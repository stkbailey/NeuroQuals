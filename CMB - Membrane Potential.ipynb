{
 "metadata": {
  "name": "",
  "signature": "sha256:b6678bee25015e91d2d09b8753eee813185049fe917c92a760ec6d417930ccca"
 },
 "nbformat": 3,
 "nbformat_minor": 0,
 "worksheets": [
  {
   "cells": [
    {
     "cell_type": "markdown",
     "metadata": {},
     "source": [
      "This notebook summarizes **Chapter 7: Membrane Potential** from Kandel's *Principles of Neural Science*."
     ]
    },
    {
     "cell_type": "heading",
     "level": 1,
     "metadata": {},
     "source": [
      "Membrane Potential"
     ]
    },
    {
     "cell_type": "markdown",
     "metadata": {},
     "source": [
      "At rest, ion flux is balanced, with exchange between the extracellular and intracellular spaces occuring constantly in both directions. The most important ions determining the membrane potential are Na<sup>+</sup>, K<sup>+</sup>, Cl<sup>-</sup> and an assortment of organic anions. Ion channels either passively let cross or actively transport them back to maintain or recover the resting potential. \n",
      "\n",
      "The membrane potential is closest to the ions with the greatest permeability at a given moment. At rest, K<sup>+</sup> is most permeable, so the potential is near -70mV; during an action potential, $V_m$ approaches +55mV, the equilibrium potential for Na<sup>+</sup>. This means that changes in potential are not caused by concentration changes, but by changes in permeability."
     ]
    },
    {
     "cell_type": "heading",
     "level": 3,
     "metadata": {},
     "source": [
      "The resting membrane potential results from the separation of charges across the cell membrane."
     ]
    },
    {
     "cell_type": "markdown",
     "metadata": {},
     "source": [
      "Two types of ion channels exist: resting and gated channels. \n",
      "\n",
      "The membrane potential is equal to the potential difference between the extracellular space and the intracellular. That is $V_m = V_{out} - V_{in}$. (Current flows from positive to negative charge.) The resting voltage ($V_r$) is between -60mV and -70mV.\n",
      "\n",
      "- Depolarization: movement of ions such that $V_m$ approaches 0.\n",
      "- Hyperpolarization: movement of ions such that $V_m$ becomes more polarized than at rest.\n",
      "- Threshold: potential difference after which an \"all or none\" action potential is generated."
     ]
    },
    {
     "cell_type": "heading",
     "level": 3,
     "metadata": {},
     "source": [
      "The resting membrane potential is determined by resting ion channels."
     ]
    },
    {
     "cell_type": "markdown",
     "metadata": {},
     "source": [
      "In the 1940's, scientiests developed tools to measure electrical activity. Using a pair of electrodes, they would place one tip in the extracellular fluid and the other in the cytoplasmic space. The electrodes could then measure the potential difference. Later, they would use another pair of electrodes, along with a current generator, to investigate how the membrane potential changed as a function of channel properties.\n",
      "\n",
      "| Ion    | Int. Conc. (mM) | Ext. Conc. (mM)  | $V_{eq}$ (mV) |\n",
      "|--------|----:|----:|----:|\n",
      "|Na<sup>+</sup>    |50  |440 |55  |\n",
      "|Cl<sup>-</sup>    | 52 |560 |-60 |\n",
      "|K<sup>+</sup>     |400 |20  |-75 |\n",
      "|Organic Anions<sup>-</sup>     |385 |---  |--- |\n",
      "\n",
      "Glia, like neurons, have a much higher internal concentration of K<sup>+</sup>. This creates two forces:\n",
      "\n",
      "- Outward chemical driving force, as K<sup>+</sup> seeks to reach chemical equilibrium.\n",
      "- Inward electrical driving force, as extracellular K<sup>+</sup> ions create a postive membrane \"cloud\" that tries to reunite with the (relatively) negative internal environment.\n",
      "\n",
      "The **Nernst Equation** describes the equilibrium potential for a given ion $X$:\n",
      "\n",
      "$$\n",
      "E_X = \\frac{RT}{zF} ln \\frac{[X]_{out}}{[X]_{in}}\n",
      "$$\n",
      "\n",
      "Where $R$ is the gas constant, $T$ is temperature (K), $z$ is the valence of the ion and $F$ is Faraday's constant. Since cellular conditions are roughly uniform, we can simplify the equation to:\n",
      "\n",
      "$$\n",
      "E_X = \\frac{58mV}{z} log \\frac{[X]_{out}}{[X]_{in}}\n",
      "$$\n",
      "\n",
      "Cells cannot just keep leaking ions out, or the electrical gradient would diminish. In addition to passive ion channels, there are active pumps which push ions against the chemical concentration gradient, such as the Na<sup>+</sup>-K<sup>+</sup> pump. This pump uses ATP to pump potassium into the cell and sodium out, hyperpolarizing the cell relative to its ideal $E_R$. \n",
      "\n",
      "*Chlorine* is governed by passive forces at rest, and there is no net exchange of ions between membrane sides. Cl<sup>-</sup> transporters use energy from other ions to drive Cl<sup>-</sup> ions out of the cell."
     ]
    },
    {
     "cell_type": "heading",
     "level": 3,
     "metadata": {},
     "source": [
      "The balance of ion fluxes that gives rise to the resting membrane potential is abolished during the action potential."
     ]
    },
    {
     "cell_type": "heading",
     "level": 3,
     "metadata": {},
     "source": [
      "The contributions of different ions to the resting membrane potential can be quantified by the Goldman equation."
     ]
    },
    {
     "cell_type": "markdown",
     "metadata": {},
     "source": [
      "The Goldman equation integrates the Nernst equation with the most important ions (Na, K, Cl)\n",
      "\n",
      "$$\n",
      "V_m = \\frac{RT}{zF} ln \n",
      "    \\frac{P_{K}[K^+]_o + P_{Na}[Na^+]_o + P_{Cl}[Cl^-]_o}\n",
      "         {P_{K}[K^+]_i + P_{Na}[Na^+]_i + P_{Cl}[Cl^-]_i}\n",
      "$$\n",
      "\n",
      "Where $P$ stands for the permeability of the membrane to a given ion, between 0 and 1. This controls how much each ion contributes to the membrane potential at a given moment. For example, at rest, the membrane is permeable primarily to K<sup>+</sup> ions, so $V_m$ mostly reflects the equilibrium potential for potassium. "
     ]
    },
    {
     "cell_type": "heading",
     "level": 3,
     "metadata": {},
     "source": [
      "The functional properties of the neuron can be represented in an electrical equivalent circuit."
     ]
    },
    {
     "cell_type": "markdown",
     "metadata": {},
     "source": [
      "The electrical properties of the neuron can be modeled using circuit theory: \n",
      "\n",
      "- Populations of channels are conductors with a single battery.\n",
      "- The surrounding fluids are zero resistance circuits."
     ]
    }
   ],
   "metadata": {}
  }
 ]
}