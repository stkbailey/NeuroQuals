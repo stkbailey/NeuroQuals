{
 "cells": [
  {
   "cell_type": "markdown",
   "metadata": {},
   "source": [
    "This notebook summarizes **Chapter 56** from Kandel's *Principles of Neural Science*.\n",
    "\n",
    "# Sensory Experience and the Fine-Tuning of Synaptic Connections\n",
    "\n",
    "Although development in many ways is preprogrammed, the creation of synapses requires experience.\n",
    "\n",
    "There are two mechanisms in development: molecular guidance cues and patterned synaptic activity. In the visual system, activity leads to cooperation and competition between fibers from opposite eye. Syncrhonus stimulation strengthens synapses at all cooperating fibers, and innervation from the opposite eye retract. Ultimately, overlap is eliminated. \n",
    "\n",
    "This process occurs principally during the critical period. After this, the circuits are stable. The clinical relevance is clear: sensory development is mediated by both genetics and experience."
   ]
  },
  {
   "cell_type": "markdown",
   "metadata": {},
   "source": [
    "### Development of visual perception requires sensory experience.\n",
    "\n",
    "Moelcular cues guide the initiral formation of synapses. Experience then refines these circuits. \n",
    "\n",
    "In vision, cataracts interfere with the optics of the eye, but not the neurons. If they are removed later in life, permanent impairment results. If removed early, though, vision can be rescued.\n",
    "\n",
    "When Hubel & Wiesel blinded one eye in cats for 3-6 months, retinal cells were okay, but the cortical cells did not respond to visual stimulation. Further study showed that monocular deprivation resulted in the dominance of a single eye; binocular deprivation, on the other hand, resulted in a balanced dominance between the two. \n",
    "\n",
    "Deprivation of sight for one week as an infant can result in total vision loss. However, later in life, deprivation of an entire month can result in no vision loss. Infancy, therefore, is a \"critical period\" in neural development."
   ]
  },
  {
   "cell_type": "markdown",
   "metadata": {},
   "source": [
    "### Development of binocular circuits in the cortex depends on postnatal neural activity.\n",
    "\n",
    "Ocular dominance columns are organized after birth. Mature patterns are not in place until 6 months in monkeys. Axon retraction and local outgrowth are the mechanisms, and are widely present in development. \n",
    "\n",
    "Manipulation can tell us much about ODC formation:\n",
    "\n",
    "- After deprivation, ocular dominance columns are reduced in surface area for that eye. \n",
    "- When two eyes are stimulated snchronously, ODCs do not form.\n",
    "\n",
    "Cooperative action between neighboring columns may make the striped pattern. Competition between eyes might lead to dominance. \n",
    "\n",
    "The timing of visual deprivation is important for influencing ODCs: during critical periods, terminals from the deprived eye become less active and retreat. At later stages, axons from the open eye extend outward. \n",
    "\n",
    "Transplanting a third eye in frogs will induce ODCs where normally there are none.\n",
    "\n",
    "<img src='pics/56-6.jpg' width=500px>"
   ]
  },
  {
   "cell_type": "markdown",
   "metadata": {},
   "source": [
    "### Segregation of retinal inputs to the thalamus is driven by spontaneous, synchronized neural activity in utero.\n",
    "\n",
    "Retinal circuits are complete before brith, and they are segregated into two layers of the lateral geniculate nucleus (LGN) of the thalamus. It is possible through spontaneous axon activation in utero, even before eyes open. Neighboring ganglion cells in the retina fire in bursts for a few seconds, followed by silent periods, allowing differentiation.\n",
    "\n",
    "<img src='pics/56-9.jpg' width=500px>"
   ]
  },
  {
   "cell_type": "markdown",
   "metadata": {},
   "source": [
    "### Synchronous presynaptic activity may enhance the release of neurotrophic factors from target neurons.\n",
    "\n",
    "Neurotrophic factors are released by depolarizatino, therefore administration of BDNF to cortical areas can block ocular dominance formation by washing out the local effect of neuronal activity."
   ]
  },
  {
   "cell_type": "markdown",
   "metadata": {},
   "source": [
    "### Early intracortical connections may direct the develompent of orientation columns.\n",
    "\n",
    "Orientation-specific columns may develop in utero, as even the visually deprived cats had these. Thus while simultaneous activity is not required, consistent input is important for maintaining the integrity of these circuits."
   ]
  },
  {
   "cell_type": "markdown",
   "metadata": {},
   "source": [
    "### Activity-dependent refinement of connections is a general feature of circuits in the central nervous system.\n",
    "\n",
    "The initial map in the LGN and the auditory cortex is coarse, and there are large, overlapping arbors. With experience, these become more precise. \n",
    "\n",
    "It is not just random activity, but specific patterns that are necessary for proper development. Synchronous activity between neighboring cells defines the edges of these maps. In audition, input is important for tonotopic maps. Exposure to white noise impairs refinement of tuning curves."
   ]
  },
  {
   "cell_type": "markdown",
   "metadata": {},
   "source": [
    "### There is a critical period in the development of social behavior.\n",
    "\n",
    "\"Imprinting\" happens just after birth in birds, who become attached to any prominent moving object that is arround. In some species, this happens in just a few hours.\n",
    "\n",
    "Rene Spritz performed a study on infants raised in a foundling home (orphanage) versus a nursing home. Children in the foundling home were deprived sensory and socially because there were fewer staff members than children. Children in the nursing home, however, had a rotating staff of women that would shower affection on the children. By the end of year 1, motor and intellect was much better in the nursing home group. The foundling children developed a condition now known as \"hospitalism\". \n",
    "\n",
    "Margaret Harlow studied monkeys raised in isolation. Although physically healthy, these monkeys were behaviorally devastated. Older monkeys that were isolated did not have the same behavioral damage."
   ]
  }
 ],
 "metadata": {
  "kernelspec": {
   "display_name": "Python 2",
   "language": "python",
   "name": "python2"
  },
  "language_info": {
   "codemirror_mode": {
    "name": "ipython",
    "version": 2
   },
   "file_extension": ".py",
   "mimetype": "text/x-python",
   "name": "python",
   "nbconvert_exporter": "python",
   "pygments_lexer": "ipython2",
   "version": "2.7.7"
  }
 },
 "nbformat": 4,
 "nbformat_minor": 0
}
