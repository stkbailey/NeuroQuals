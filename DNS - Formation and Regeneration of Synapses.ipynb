{
 "cells": [
  {
   "cell_type": "markdown",
   "metadata": {
    "collapsed": false
   },
   "source": [
    "This notebook summarizes **Chapter 55** from Kandel's *Principles of Neural Science*."
   ]
  },
  {
   "cell_type": "markdown",
   "metadata": {},
   "source": [
    "# The Formation and Regeneration of Synapses\n",
    "\n",
    "There are three key events in synapse formation. \n",
    "\n",
    "1. Form selective connections between developing axon and target.\n",
    "2. Differentiation of axon growth cone into presynaptic terminal.\n",
    "3. Elaboration of postsynaptic apparatus in target.\n",
    "\n",
    "The nerve terminal must recognize and targetcell. The posynaptic membrane must respond to neurotransmitters released by the axon. These processes must be tightly matched spatially and last a lifetime. \n",
    "\n",
    "Synaptogenesis is instructive. Pre- and post-synaptic fibers generate their own machinery, but they organize each other with electrical and chemical signals. One key signal is agrin, which activates MuSK for aggregating AChRs, leading to increased electrical activity.Retrograde signals include trophic factors and laminin. \n",
    "\n",
    "Axons can also regenerate and form new synapses after injury, especially in the peripheral nervous system.\n",
    "\n"
   ]
  },
  {
   "cell_type": "markdown",
   "metadata": {},
   "source": [
    "### Interactions between motor neurons and skeletal muscles organize the development of the neuromuscular junction.\n",
    "\n",
    "The neuromuscular junction uses three types of cell: motor neurons, Schwann cells and muscle fibers. The axon has vesicles containing ACh and mitochondria. The terminal has Schwann cells that extend processes, forming a non-myelin layer over the terminal. The muscle terminal has \"junctional folds\" across from ACh active zones. Finally, a \"basal lamina\" containing molecules such as AChase ensheathes the entire muscle fiber.\n",
    "\n",
    "The process:\n",
    "\n",
    "- Axon and myotube organize each other. The axon spits out ACh; myotube creates channels. However, in culture, they will form synapses but the initial contact is random. \n",
    "- New synaptic components are added in defined steps. Signals pass between cells to kick off each new step.\n",
    "- Axons and myotubes develop synaptic components independently. Axons release ACh before reaching the myotubule. Deleopmental signals are local, not global and assure that synapses are formed at the right time and place. \n",
    "\n",
    "<img src='pics/55-1.jpg' > #Include stages"
   ]
  },
  {
   "cell_type": "markdown",
   "metadata": {},
   "source": [
    "### The motor nerve organizes differentiation of the postsynaptic muscle membrane.\n",
    "\n",
    "ACh receptors are pentamers ($\\alpha \\beta$, 2 $\\delta$, 2 $\\gamma$). The majority are distributed, although some are clustered. Once the synapaes is formed, the receptors become highly concentrated, via three mechanisms:\n",
    "\n",
    "1. Translocation\n",
    "2. Increased transcription at synaptic areas\n",
    "3. Decreased transcription at non-synaptic areas\n",
    "\n",
    "To visualize ACh receptors, we use $\\alpha$-bungarotoxin. \n",
    "\n",
    "*Agrin* activates *MuSK* (Muscle Tyrosine Kinase) to trigger a cascade, resulting in clustering.Agrin is active in nerve and found in basal lamina. \n",
    "\n",
    "Neurons also use neuregulin to upregulate receptor synthesis. Knockout mice show lower potentials (i.e. fewer receptors).\n",
    "\n",
    "<img src='pics/55-7.jpg'>\n",
    "\n",
    "Finally, neural activity represses AChR expression at non-synaptic sites. When muscle cells are denervated, AChR density increase markedly (aka denervation sensitivity). Active myscle synthesizes less than inactive."
   ]
  },
  {
   "cell_type": "markdown",
   "metadata": {},
   "source": [
    "### The muscle fiber organizes the differentiation of motor nerve terminals.\n",
    "\n",
    "It is not clear exactly how, but retrograde signals are likely. Damaged peripheral nerves will regenerate and innervate some junctions as before. An important aspect could be laminin, which is in the basal lamina."
   ]
  },
  {
   "cell_type": "markdown",
   "metadata": {},
   "source": [
    "### Many neuromuscular junctions that form in the embryo are eliminated after birth.\n",
    "\n",
    "There is a one-to-one relationship between muscle fibers and nerve terminals in adults. This synapse elimination is not the same as cell death. Motor axons withdraw from some and and strengthen elsewhere. It is an intercellular process since fibers still have 1 input somewhere.\n",
    "\n",
    "Some possibilities for how it occurs include:\n",
    "\n",
    "- axons compete for trophic factors\n",
    "- muscles provides a toxin to undesirable axons\n",
    "- muscles select for axons individually \n",
    "\n",
    "Of these, the former two have in vitro evidence; there is some in vivo evidence for the lattermost. "
   ]
  },
  {
   "cell_type": "markdown",
   "metadata": {},
   "source": [
    "### Central synapses and neuromuscular junctions develop in similar ways.\n",
    "\n",
    "Central terminals develop gradually and eliminate as well. Agrin is abudnat and neurotransmitter receptors cluster at synapses despite many more neurotransmitter types. \n",
    "\n",
    "CNS neurons do not have a basal lamina at their synaptic cleft."
   ]
  },
  {
   "cell_type": "markdown",
   "metadata": {},
   "source": [
    "### The recognition of synaptic targets is highly specific.\n",
    "\n",
    "Extermely selective: for reflexes, sensory neurons must synapse with specific motor neurons."
   ]
  },
  {
   "cell_type": "markdown",
   "metadata": {},
   "source": [
    "### New neural connections can reform following nerve injury.\n",
    "Axon damage (splitting) affects neurons and nearby cells. Terminals can lose their ability to synthesize proteins, resulting in the degeneration of axons (Wallerian degeneration). The proximal portion may die from apoptosis (programmed cell death). Even the target cell may die.\n",
    "\n",
    "<img src='pics/55-18.jpg'>\n",
    "\n",
    "The peripheral nervous system can regain more than the CNS after injury: Heavily myelinated fibers in the brain and spinal cord may inhibit cell recovery. Schwann cells may provide growth factors. Central axons may be incapable of regeneration. So a fissure, etc., may inhibit regeneration."
   ]
  }
 ],
 "metadata": {
  "kernelspec": {
   "display_name": "Python 2",
   "language": "python",
   "name": "python2"
  },
  "language_info": {
   "codemirror_mode": {
    "name": "ipython",
    "version": 2
   },
   "file_extension": ".py",
   "mimetype": "text/x-python",
   "name": "python",
   "nbconvert_exporter": "python",
   "pygments_lexer": "ipython2",
   "version": "2.7.7"
  }
 },
 "nbformat": 4,
 "nbformat_minor": 0
}
