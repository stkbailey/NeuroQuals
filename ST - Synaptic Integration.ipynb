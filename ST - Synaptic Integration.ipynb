{
 "metadata": {
  "name": "",
  "signature": "sha256:f4151ea930c6a32afb8923de76d7d11fc324ebc824ee123c07cecdd6ded2dfd4"
 },
 "nbformat": 3,
 "nbformat_minor": 0,
 "worksheets": [
  {
   "cells": [
    {
     "cell_type": "markdown",
     "metadata": {},
     "source": [
      "This notebook summarizes **Chapter 12** from Kandel's *Principles of Neural Science*."
     ]
    },
    {
     "cell_type": "heading",
     "level": 1,
     "metadata": {},
     "source": [
      "Synaptic Integration"
     ]
    },
    {
     "cell_type": "markdown",
     "metadata": {},
     "source": [
      "\n",
      "In the central nervous system, EPSPs tened to be about 1mV (compared to 20mV in the neuromuscular junction). However, each neuron has hundreds of inputs.\n",
      "\n",
      "Glutamate is the most common neurotransmitter, and it has three types of receptors (AMPA, kainate and NMDA). AMPA and Kainate mediate rapid Na<sup>+</sup> and K<sup>+</sup> permeability changes, whereas NMDA mediates delayed Na<sup>+</sup>, K<sup>+</sup> *and* Ca<sup>2+</sup> flux. Thus, NMDA contributes to the *late* portion of the EPSP but also triggers important signalling pathways implicated in learning and memory.\n",
      "\n",
      "Ionotropic (directly-gated) receptors are responsible for fast changes in voltage, while metabotropic receptors rely on 2nd messengers to perform function. \n",
      "\n",
      "The neuron integrates thousands of inputs through passive cell properties and synapse locations, etc. The most common excitatory transmitter is Glu; the most common inhibitory transmitter is GABA and glycine. The ionotriopic GABA<sub>A</sub> channel allows Cl<sup>-</sup> influx, whereas the metabotropic GABA<sub>B</sub> receptor activates potassium channels and inhibits Calcium influx. These processes each hyperpolarize or inhibit depolarization of the cell.\n",
      "\n",
      "There are at least three gene families of receptors:\n",
      "\n",
      "1. ACh, GABA/Gly, 5-HT receptors \n",
      "2. Glutamate receptors\n",
      "3. ATP-gated receptors"
     ]
    },
    {
     "cell_type": "heading",
     "level": 3,
     "metadata": {},
     "source": [
      "A central neuron receives both excitatory and inhibitory signals."
     ]
    },
    {
     "cell_type": "markdown",
     "metadata": {},
     "source": [
      "Many of our insights have come from spinal cord neurons which received both excitatory and inhibitory inputs and have large bodies.\n",
      "\n",
      "The neuromuscular junction (NMJ) expresses nicotinic ACh receptors with one excitatory connection. In the central nervous system, however, a single neuron may receive 50-100 synaptic inputs. \n",
      "\n",
      "Thus, a single input neuron may not provide enough neurotransmitter to trigger an action potential. Furthermore, a single neuron may provide both inhibitory and excitatory inputs to different areas. For example, a spinal cord neuron may excite the hamstring, causing it to contract, while inhibiting the quadricep, ensuring that it does not provide antagonistic force.\n",
      "\n",
      "An excitatory post-synaptic potential (EPSP) depolarizes the cell; and inhibitory post-synaptic potential (IPSP) hyperpolarizes it. \n",
      "\n",
      "<img src=\"pics/12-1.jpg\">"
     ]
    },
    {
     "cell_type": "heading",
     "level": 3,
     "metadata": {},
     "source": [
      "Excitatory and inhibitory synapses have distinctive ultrastructures."
     ]
    },
    {
     "cell_type": "markdown",
     "metadata": {},
     "source": [
      "Excitatory and inhibitory synapses can be differentiated by structure, in at least two types:\n",
      "\n",
      "- Type I (Excitatory, Glu):larger, denser terminal; rounded; prominent active zone.\n",
      "- Type II (Inhibitory, GABA): smaller, less dense terminal; oval vesicles.\n",
      "\n",
      "<img src=\"pics/12-3.jpg\">"
     ]
    },
    {
     "cell_type": "heading",
     "level": 3,
     "metadata": {},
     "source": [
      "Excitatory synaptic action is mediated by glutamate-gated channels that conduct sodium and potassium."
     ]
    },
    {
     "cell_type": "markdown",
     "metadata": {},
     "source": [
      "Glutamate receptors conduct both K<sup>+</sup> and Na<sup>+</sup> ions with ~equal permeability (i.e. their reversal potential is 0 mV).\n",
      "\n",
      "Current-clamping is when a current is run through the cell at a constant rate. Voltage clamping holds the membrane at a constant potential, allowing inputs to come in but not cause an action potential. \n",
      "\n",
      "<img src=\"pics/12-4.jpg\">\n",
      "\n",
      "There are two types of glutamate receptors:\n",
      "\n",
      "- Ionotropic: Directly gated, always excitatory\n",
      "    - AMPA: Permeable to Na<sup>+</sup>, K<sup>+</sup>\n",
      "    - Kainate: Permeable to Na<sup>+</sup>, K<sup>+</sup>\n",
      "    - NMDA: Permeable to Na<sup>+</sup>, K<sup>+</sup>, and Ca<sup>2+</sup>; requires glycine molecules in synapse; depends on membrane voltage to unblock Mg<sup>2+</sup>\n",
      "\n",
      "\n",
      "- Metabotropic: Indirect, second-messenger gating; can be excitatory or inhibitory\n"
     ]
    },
    {
     "cell_type": "heading",
     "level": 3,
     "metadata": {},
     "source": [
      "Inhibiitory synaptic action is usually mediated by GABA- and glycine-gated channels that conduct chloride."
     ]
    },
    {
     "cell_type": "markdown",
     "metadata": {},
     "source": [
      "GABA can act on two types of channels: GABA<sub>A</sub> (ionotropic, gate Cl<sup>-</sup>) or GABA<sub>B</sub> (metabotropic, activate second messenger to open K<sup>+</sup> channel).\n",
      "\n",
      "Glycine can also be used to produce IPSPs. It attaches to ionotropic receptors that allow Cl<sup>-</sup> influx, and they usually produce a larger IPSP than either GABA channel. \n",
      "\n",
      "IPSPs rely on Cl<sup>-</sup> influx to hyperpolarize the c ell, evidenced by the membrane potential moving towards -70 mV, Cl<sup>-</sup>'s equilibrium potential. If the cell is already there, this influx makes it harder to depolarize."
     ]
    },
    {
     "cell_type": "heading",
     "level": 3,
     "metadata": {},
     "source": [
      "Synaptic receptors for glutamate, GABA and glycine are transmembrane proteins."
     ]
    },
    {
     "cell_type": "markdown",
     "metadata": {},
     "source": [
      "Glutatmate receptors are more similar to each other and clustered together at postsynaptic sites.\n",
      "\n",
      "GABA and glycine receptors have 2 $\\alpha$ subunits, 2 $\\beta$ subunits and 1 $\\gamma$ subunit. They have a large extracellular binding site which requires 2 GABA molecules and 3 glycine molecules to activate.\n",
      "\n",
      "<img src='pics/12-10.jpg'>"
     ]
    },
    {
     "cell_type": "heading",
     "level": 3,
     "metadata": {},
     "source": [
      "Excitatory and  inhibitory signals are integrated into a single response by the cell."
     ]
    },
    {
     "cell_type": "markdown",
     "metadata": {},
     "source": [
      "A cell at any moment has two options: fire or do not fire an action potential. Sherrington described the bran's ability to choose between these two alternatives as the integrative action of the nervous system, and he regarded it as the brain's most fundamental operation.\n",
      "\n",
      "Integration occurs at the \"trigger zone\" on the axon hillock, where there is a higher density of Na<sup>+</sup> channels than anywhere else. \n",
      "\n",
      "Two passive cell properties influence the integrative ability of a cell:\n",
      "\n",
      "- Time constraint: current decreases with time\n",
      "- Length constraint: current decreases with spread\n",
      "\n",
      "Dendirtes both passively and actively convey signals. "
     ]
    },
    {
     "cell_type": "heading",
     "level": 3,
     "metadata": {},
     "source": [
      "Synapses on a single central neuron are grouped according to function."
     ]
    },
    {
     "cell_type": "markdown",
     "metadata": {},
     "source": [
      "The proximity of a synapse to the trigger zone is critical in determining its influence over the cell. The typical locations for different types of input are:\n",
      "\n",
      "- Excitatory input: dendrites\n",
      "- Inhibitory input: cell body (soma)\n",
      "- Modulatory input: axon terminals\n",
      "    - i.e. input that affects postsynaptic cell through controlling amount of transmitter released\n",
      "\n",
      "\n",
      "<img src='pics/12-16.jpg'>\n"
     ]
    }
   ],
   "metadata": {}
  }
 ]
}