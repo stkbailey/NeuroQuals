{
 "metadata": {
  "name": "",
  "signature": "sha256:d0b18ae03fdf438e7c06174c0375b762ad027f008c40e426389bc41a356603a4"
 },
 "nbformat": 3,
 "nbformat_minor": 0,
 "worksheets": [
  {
   "cells": [
    {
     "cell_type": "markdown",
     "metadata": {},
     "source": [
      "This notebook summarizes Chapter 5 from Kandel's *Principles of Neural Science*."
     ]
    },
    {
     "cell_type": "code",
     "collapsed": false,
     "input": [],
     "language": "python",
     "metadata": {},
     "outputs": []
    }
   ],
   "metadata": {}
  }
 ]
}